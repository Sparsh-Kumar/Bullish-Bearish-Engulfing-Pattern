{
 "cells": [
  {
   "cell_type": "markdown",
   "id": "f12d7bb9",
   "metadata": {},
   "source": [
    "## Bullish & Bearish Engulfing Pattern & it's Statistical Analysis\n",
    "\n",
    "**Bullish engulfing pattern** is that kind of pattern which is followed by **multiple downtrend candles** & then suddenly an **uptrend candle** which opens at or below the **closing price** of previous **downtrend candle** and closes higher than the **opening price** of previous **downtrend candle**.\n",
    "\n",
    "The significance of **Bullish Engulfing Pattern** is that it denotes a change from downward trend to upward trend from it's point onwards.\n",
    "\n",
    "The **Bullish Engulfing Pattern** looks like this.\n",
    "![Bullish-Engulfing-Pattern](https://a.c-dn.net/c/content/dam/publicsites/igcom/uk/images/ContentImage/What_is_a_bullish_engulfing_pattern@2x.png)\n",
    "\n",
    "**Bearish Engulfing Pattern** is that kind of pattern which is followed by **multiple uptrend candles** & then suddenly a **downtrend candle** which opens at or above the **closing price** of previous **uptrend candle** and closes lower than the opening price of previous **uptrend candle**.\n",
    "\n",
    "The **Bearish Engulfing Pattern** looks like this.\n",
    "![Bearish-Engulfing-Pattern](https://www.learnstockmarket.in/wp-content/uploads/2020/10/Bearish-Engulfing-Example.png)\n",
    "\n",
    "Get Video Tutorial Here - https://www.youtube.com/watch?v=33qz3LIdwKo&list=PLwEOixRFAUxZmM26EYI1uYtJG39HDW1zm&index=39\n"
   ]
  },
  {
   "cell_type": "code",
   "execution_count": 29,
   "id": "fa1e9939",
   "metadata": {},
   "outputs": [
    {
     "data": {
      "text/html": [
       "<div>\n",
       "<style scoped>\n",
       "    .dataframe tbody tr th:only-of-type {\n",
       "        vertical-align: middle;\n",
       "    }\n",
       "\n",
       "    .dataframe tbody tr th {\n",
       "        vertical-align: top;\n",
       "    }\n",
       "\n",
       "    .dataframe thead th {\n",
       "        text-align: right;\n",
       "    }\n",
       "</style>\n",
       "<table border=\"1\" class=\"dataframe\">\n",
       "  <thead>\n",
       "    <tr style=\"text-align: right;\">\n",
       "      <th></th>\n",
       "      <th>Local time</th>\n",
       "      <th>open</th>\n",
       "      <th>high</th>\n",
       "      <th>low</th>\n",
       "      <th>close</th>\n",
       "      <th>volume</th>\n",
       "    </tr>\n",
       "  </thead>\n",
       "  <tbody>\n",
       "    <tr>\n",
       "      <th>4322</th>\n",
       "      <td>14.10.2019 00:00:00.000 GMT+0300</td>\n",
       "      <td>1.10399</td>\n",
       "      <td>1.10428</td>\n",
       "      <td>1.10129</td>\n",
       "      <td>1.10281</td>\n",
       "      <td>150329.9600</td>\n",
       "    </tr>\n",
       "    <tr>\n",
       "      <th>4323</th>\n",
       "      <td>15.10.2019 00:00:00.000 GMT+0300</td>\n",
       "      <td>1.10281</td>\n",
       "      <td>1.10463</td>\n",
       "      <td>1.09915</td>\n",
       "      <td>1.10338</td>\n",
       "      <td>225114.4925</td>\n",
       "    </tr>\n",
       "    <tr>\n",
       "      <th>4324</th>\n",
       "      <td>16.10.2019 00:00:00.000 GMT+0300</td>\n",
       "      <td>1.10331</td>\n",
       "      <td>1.10857</td>\n",
       "      <td>1.10226</td>\n",
       "      <td>1.10720</td>\n",
       "      <td>224179.4392</td>\n",
       "    </tr>\n",
       "    <tr>\n",
       "      <th>4325</th>\n",
       "      <td>17.10.2019 00:00:00.000 GMT+0300</td>\n",
       "      <td>1.10724</td>\n",
       "      <td>1.11400</td>\n",
       "      <td>1.10653</td>\n",
       "      <td>1.11254</td>\n",
       "      <td>221922.6500</td>\n",
       "    </tr>\n",
       "    <tr>\n",
       "      <th>4326</th>\n",
       "      <td>18.10.2019 00:00:00.000 GMT+0300</td>\n",
       "      <td>1.11256</td>\n",
       "      <td>1.11727</td>\n",
       "      <td>1.11149</td>\n",
       "      <td>1.11723</td>\n",
       "      <td>143073.7750</td>\n",
       "    </tr>\n",
       "  </tbody>\n",
       "</table>\n",
       "</div>"
      ],
      "text/plain": [
       "                            Local time     open     high      low    close  \\\n",
       "4322  14.10.2019 00:00:00.000 GMT+0300  1.10399  1.10428  1.10129  1.10281   \n",
       "4323  15.10.2019 00:00:00.000 GMT+0300  1.10281  1.10463  1.09915  1.10338   \n",
       "4324  16.10.2019 00:00:00.000 GMT+0300  1.10331  1.10857  1.10226  1.10720   \n",
       "4325  17.10.2019 00:00:00.000 GMT+0300  1.10724  1.11400  1.10653  1.11254   \n",
       "4326  18.10.2019 00:00:00.000 GMT+0300  1.11256  1.11727  1.11149  1.11723   \n",
       "\n",
       "           volume  \n",
       "4322  150329.9600  \n",
       "4323  225114.4925  \n",
       "4324  224179.4392  \n",
       "4325  221922.6500  \n",
       "4326  143073.7750  "
      ]
     },
     "execution_count": 29,
     "metadata": {},
     "output_type": "execute_result"
    }
   ],
   "source": [
    "# Loading the sample data\n",
    "\n",
    "import pandas as pd\n",
    "df = pd.read_csv(\"EURUSD_Candlestick_1_D_ASK_05.05.2003-19.10.2019.csv\")\n",
    "df.tail()"
   ]
  },
  {
   "cell_type": "code",
   "execution_count": 30,
   "id": "d3c9bd6f",
   "metadata": {},
   "outputs": [
    {
     "data": {
      "text/plain": [
       "Local time    0\n",
       "open          0\n",
       "high          0\n",
       "low           0\n",
       "close         0\n",
       "volume        0\n",
       "dtype: int64"
      ]
     },
     "execution_count": 30,
     "metadata": {},
     "output_type": "execute_result"
    }
   ],
   "source": [
    "# Checking if there are any NaN values in the data ?.\n",
    "# Getting a count of those values\n",
    "# https://datatofish.com/count-nan-pandas-dataframe/ (Refer here for more information)\n",
    "\n",
    "df.isna().sum()"
   ]
  },
  {
   "cell_type": "markdown",
   "id": "4be4e693",
   "metadata": {},
   "source": [
    "# Identification of Bullish & Bearish Engulfing Candles."
   ]
  },
  {
   "cell_type": "code",
   "execution_count": 31,
   "id": "274fbb1b",
   "metadata": {},
   "outputs": [],
   "source": [
    "# Subroutine to identify the bullish & Bearish Engulfing Patterns\n",
    "def AddSignalInformation(dataFrame):\n",
    "    dataFrameLength = len(dataFrame)\n",
    "    highArray = list(dataFrame['high'])\n",
    "    lowArray = list(dataFrame['low'])\n",
    "    closeArray = list(dataFrame['close'])\n",
    "    openArray = list(dataFrame['open'])\n",
    "    signalArray = [0] * dataFrameLength\n",
    "    bodyDifference = [0] * dataFrameLength\n",
    "    for row in range(1, dataFrameLength):\n",
    "        bodyDifference[row] = abs(openArray[row] - closeArray[row])\n",
    "        bodyDifferenceMinimum= 0.003\n",
    "        \n",
    "        '''\n",
    "            Bullish Engulfing Condition Explanations\n",
    "            ----------------------------------------\n",
    "            - Current candle should have minimum length which is greater\n",
    "               than bodyDifferenceMinimum value.\n",
    "            - Previous candle should have minimum length which is greater\n",
    "               than bodyDifferenceMinimum value.\n",
    "            - Previous candle should be a downward trend candle.\n",
    "            - Current candle should be a upward trend candle.\n",
    "            - Current candle should open below or equal to the closing\n",
    "              value of previous downward trend candle.\n",
    "            - Current candle should close above the opening price of previous\n",
    "              downward trend candle.\n",
    "              \n",
    "            Bearish Engulfing Condition Explanations\n",
    "            ----------------------------------------\n",
    "            - Current candle shoul have minimum length which is greater\n",
    "                than bodyDifferenceMinimum value.\n",
    "            - Previous candle should have minimum length which is greater\n",
    "                than bodyDifferenceMinimum value.\n",
    "            - Previous candle should be a upward trend candle.\n",
    "            - Current candle should be a downward trend candle.\n",
    "            - Current candle should open above or equal to the closing\n",
    "              value of previous upward trend candle.\n",
    "            - Current candle should close below the opening price of previous\n",
    "              upward trend candle.\n",
    "        '''\n",
    "        \n",
    "        if (bodyDifference[row] > bodyDifferenceMinimum and\n",
    "            bodyDifference[row - 1] > bodyDifferenceMinimum and\n",
    "            openArray[row - 1] > closeArray[row - 1] and\n",
    "            openArray[row] < closeArray[row] and\n",
    "            (openArray[row] - closeArray[row - 1]) <= -0e-5 and\n",
    "            closeArray[row] > openArray[row - 1]):\n",
    "            signalArray[row] = 2 # Signifies Bullish Engulfing Candle Pattern\n",
    "        elif (bodyDifference[row] > bodyDifferenceMinimum and\n",
    "              bodyDifference[row - 1] > bodyDifferenceMinimum and\n",
    "              openArray[row - 1] < closeArray[row - 1] and\n",
    "              openArray[row] > closeArray[row] and\n",
    "              (openArray[row] - closeArray[row - 1]) >= +0e-5 and\n",
    "              closeArray[row] < openArray[row -1]):\n",
    "            signalArray[row] = 1 # Signifies Bearish Engulfing Candle Pattern\n",
    "        else:\n",
    "            signalArray[row] = 0\n",
    "    df['signals'] = signalArray\n",
    "    return df\n"
   ]
  },
  {
   "cell_type": "code",
   "execution_count": 32,
   "id": "c267f326",
   "metadata": {},
   "outputs": [
    {
     "data": {
      "text/html": [
       "<div>\n",
       "<style scoped>\n",
       "    .dataframe tbody tr th:only-of-type {\n",
       "        vertical-align: middle;\n",
       "    }\n",
       "\n",
       "    .dataframe tbody tr th {\n",
       "        vertical-align: top;\n",
       "    }\n",
       "\n",
       "    .dataframe thead th {\n",
       "        text-align: right;\n",
       "    }\n",
       "</style>\n",
       "<table border=\"1\" class=\"dataframe\">\n",
       "  <thead>\n",
       "    <tr style=\"text-align: right;\">\n",
       "      <th></th>\n",
       "      <th>Local time</th>\n",
       "      <th>open</th>\n",
       "      <th>high</th>\n",
       "      <th>low</th>\n",
       "      <th>close</th>\n",
       "      <th>volume</th>\n",
       "      <th>signals</th>\n",
       "    </tr>\n",
       "  </thead>\n",
       "  <tbody>\n",
       "    <tr>\n",
       "      <th>0</th>\n",
       "      <td>05.05.2003 00:00:00.000 GMT+0300</td>\n",
       "      <td>1.12354</td>\n",
       "      <td>1.13019</td>\n",
       "      <td>1.12030</td>\n",
       "      <td>1.12804</td>\n",
       "      <td>1.053163e+06</td>\n",
       "      <td>0</td>\n",
       "    </tr>\n",
       "    <tr>\n",
       "      <th>1</th>\n",
       "      <td>06.05.2003 00:00:00.000 GMT+0300</td>\n",
       "      <td>1.12798</td>\n",
       "      <td>1.14510</td>\n",
       "      <td>1.12738</td>\n",
       "      <td>1.14368</td>\n",
       "      <td>1.061123e+06</td>\n",
       "      <td>0</td>\n",
       "    </tr>\n",
       "    <tr>\n",
       "      <th>2</th>\n",
       "      <td>07.05.2003 00:00:00.000 GMT+0300</td>\n",
       "      <td>1.14367</td>\n",
       "      <td>1.14448</td>\n",
       "      <td>1.13275</td>\n",
       "      <td>1.13677</td>\n",
       "      <td>1.056797e+06</td>\n",
       "      <td>0</td>\n",
       "    </tr>\n",
       "    <tr>\n",
       "      <th>3</th>\n",
       "      <td>08.05.2003 00:00:00.000 GMT+0300</td>\n",
       "      <td>1.13675</td>\n",
       "      <td>1.15092</td>\n",
       "      <td>1.13026</td>\n",
       "      <td>1.15026</td>\n",
       "      <td>1.058909e+06</td>\n",
       "      <td>2</td>\n",
       "    </tr>\n",
       "    <tr>\n",
       "      <th>4</th>\n",
       "      <td>09.05.2003 00:00:00.000 GMT+0300</td>\n",
       "      <td>1.15002</td>\n",
       "      <td>1.15376</td>\n",
       "      <td>1.14362</td>\n",
       "      <td>1.14907</td>\n",
       "      <td>1.063989e+06</td>\n",
       "      <td>0</td>\n",
       "    </tr>\n",
       "    <tr>\n",
       "      <th>...</th>\n",
       "      <td>...</td>\n",
       "      <td>...</td>\n",
       "      <td>...</td>\n",
       "      <td>...</td>\n",
       "      <td>...</td>\n",
       "      <td>...</td>\n",
       "      <td>...</td>\n",
       "    </tr>\n",
       "    <tr>\n",
       "      <th>4322</th>\n",
       "      <td>14.10.2019 00:00:00.000 GMT+0300</td>\n",
       "      <td>1.10399</td>\n",
       "      <td>1.10428</td>\n",
       "      <td>1.10129</td>\n",
       "      <td>1.10281</td>\n",
       "      <td>1.503300e+05</td>\n",
       "      <td>0</td>\n",
       "    </tr>\n",
       "    <tr>\n",
       "      <th>4323</th>\n",
       "      <td>15.10.2019 00:00:00.000 GMT+0300</td>\n",
       "      <td>1.10281</td>\n",
       "      <td>1.10463</td>\n",
       "      <td>1.09915</td>\n",
       "      <td>1.10338</td>\n",
       "      <td>2.251145e+05</td>\n",
       "      <td>0</td>\n",
       "    </tr>\n",
       "    <tr>\n",
       "      <th>4324</th>\n",
       "      <td>16.10.2019 00:00:00.000 GMT+0300</td>\n",
       "      <td>1.10331</td>\n",
       "      <td>1.10857</td>\n",
       "      <td>1.10226</td>\n",
       "      <td>1.10720</td>\n",
       "      <td>2.241794e+05</td>\n",
       "      <td>0</td>\n",
       "    </tr>\n",
       "    <tr>\n",
       "      <th>4325</th>\n",
       "      <td>17.10.2019 00:00:00.000 GMT+0300</td>\n",
       "      <td>1.10724</td>\n",
       "      <td>1.11400</td>\n",
       "      <td>1.10653</td>\n",
       "      <td>1.11254</td>\n",
       "      <td>2.219226e+05</td>\n",
       "      <td>0</td>\n",
       "    </tr>\n",
       "    <tr>\n",
       "      <th>4326</th>\n",
       "      <td>18.10.2019 00:00:00.000 GMT+0300</td>\n",
       "      <td>1.11256</td>\n",
       "      <td>1.11727</td>\n",
       "      <td>1.11149</td>\n",
       "      <td>1.11723</td>\n",
       "      <td>1.430738e+05</td>\n",
       "      <td>0</td>\n",
       "    </tr>\n",
       "  </tbody>\n",
       "</table>\n",
       "<p>4327 rows × 7 columns</p>\n",
       "</div>"
      ],
      "text/plain": [
       "                            Local time     open     high      low    close  \\\n",
       "0     05.05.2003 00:00:00.000 GMT+0300  1.12354  1.13019  1.12030  1.12804   \n",
       "1     06.05.2003 00:00:00.000 GMT+0300  1.12798  1.14510  1.12738  1.14368   \n",
       "2     07.05.2003 00:00:00.000 GMT+0300  1.14367  1.14448  1.13275  1.13677   \n",
       "3     08.05.2003 00:00:00.000 GMT+0300  1.13675  1.15092  1.13026  1.15026   \n",
       "4     09.05.2003 00:00:00.000 GMT+0300  1.15002  1.15376  1.14362  1.14907   \n",
       "...                                ...      ...      ...      ...      ...   \n",
       "4322  14.10.2019 00:00:00.000 GMT+0300  1.10399  1.10428  1.10129  1.10281   \n",
       "4323  15.10.2019 00:00:00.000 GMT+0300  1.10281  1.10463  1.09915  1.10338   \n",
       "4324  16.10.2019 00:00:00.000 GMT+0300  1.10331  1.10857  1.10226  1.10720   \n",
       "4325  17.10.2019 00:00:00.000 GMT+0300  1.10724  1.11400  1.10653  1.11254   \n",
       "4326  18.10.2019 00:00:00.000 GMT+0300  1.11256  1.11727  1.11149  1.11723   \n",
       "\n",
       "            volume  signals  \n",
       "0     1.053163e+06        0  \n",
       "1     1.061123e+06        0  \n",
       "2     1.056797e+06        0  \n",
       "3     1.058909e+06        2  \n",
       "4     1.063989e+06        0  \n",
       "...            ...      ...  \n",
       "4322  1.503300e+05        0  \n",
       "4323  2.251145e+05        0  \n",
       "4324  2.241794e+05        0  \n",
       "4325  2.219226e+05        0  \n",
       "4326  1.430738e+05        0  \n",
       "\n",
       "[4327 rows x 7 columns]"
      ]
     },
     "execution_count": 32,
     "metadata": {},
     "output_type": "execute_result"
    }
   ],
   "source": [
    "AddSignalInformation(df)"
   ]
  },
  {
   "cell_type": "markdown",
   "id": "78381cb4",
   "metadata": {},
   "source": [
    "## Getting All Bearish Engulfing Patterns"
   ]
  },
  {
   "cell_type": "code",
   "execution_count": 33,
   "id": "7d994790",
   "metadata": {},
   "outputs": [
    {
     "data": {
      "text/html": [
       "<div>\n",
       "<style scoped>\n",
       "    .dataframe tbody tr th:only-of-type {\n",
       "        vertical-align: middle;\n",
       "    }\n",
       "\n",
       "    .dataframe tbody tr th {\n",
       "        vertical-align: top;\n",
       "    }\n",
       "\n",
       "    .dataframe thead th {\n",
       "        text-align: right;\n",
       "    }\n",
       "</style>\n",
       "<table border=\"1\" class=\"dataframe\">\n",
       "  <thead>\n",
       "    <tr style=\"text-align: right;\">\n",
       "      <th></th>\n",
       "      <th>Local time</th>\n",
       "      <th>open</th>\n",
       "      <th>high</th>\n",
       "      <th>low</th>\n",
       "      <th>close</th>\n",
       "      <th>volume</th>\n",
       "      <th>signals</th>\n",
       "    </tr>\n",
       "  </thead>\n",
       "  <tbody>\n",
       "    <tr>\n",
       "      <th>72</th>\n",
       "      <td>12.08.2003 00:00:00.000 GMT+0300</td>\n",
       "      <td>1.13588</td>\n",
       "      <td>1.13715</td>\n",
       "      <td>1.12758</td>\n",
       "      <td>1.12830</td>\n",
       "      <td>1.107321e+06</td>\n",
       "      <td>1</td>\n",
       "    </tr>\n",
       "    <tr>\n",
       "      <th>74</th>\n",
       "      <td>14.08.2003 00:00:00.000 GMT+0300</td>\n",
       "      <td>1.13233</td>\n",
       "      <td>1.13375</td>\n",
       "      <td>1.12244</td>\n",
       "      <td>1.12577</td>\n",
       "      <td>1.101309e+06</td>\n",
       "      <td>1</td>\n",
       "    </tr>\n",
       "    <tr>\n",
       "      <th>114</th>\n",
       "      <td>09.10.2003 00:00:00.000 GMT+0300</td>\n",
       "      <td>1.18097</td>\n",
       "      <td>1.18604</td>\n",
       "      <td>1.16840</td>\n",
       "      <td>1.17457</td>\n",
       "      <td>1.122516e+06</td>\n",
       "      <td>1</td>\n",
       "    </tr>\n",
       "    <tr>\n",
       "      <th>116</th>\n",
       "      <td>13.10.2003 00:00:00.000 GMT+0300</td>\n",
       "      <td>1.18109</td>\n",
       "      <td>1.18150</td>\n",
       "      <td>1.16523</td>\n",
       "      <td>1.17030</td>\n",
       "      <td>1.099261e+06</td>\n",
       "      <td>1</td>\n",
       "    </tr>\n",
       "    <tr>\n",
       "      <th>158</th>\n",
       "      <td>10.12.2003 00:00:00.000 GMT+0200</td>\n",
       "      <td>1.22576</td>\n",
       "      <td>1.22649</td>\n",
       "      <td>1.21523</td>\n",
       "      <td>1.22145</td>\n",
       "      <td>1.114964e+06</td>\n",
       "      <td>1</td>\n",
       "    </tr>\n",
       "    <tr>\n",
       "      <th>...</th>\n",
       "      <td>...</td>\n",
       "      <td>...</td>\n",
       "      <td>...</td>\n",
       "      <td>...</td>\n",
       "      <td>...</td>\n",
       "      <td>...</td>\n",
       "      <td>...</td>\n",
       "    </tr>\n",
       "    <tr>\n",
       "      <th>4041</th>\n",
       "      <td>14.09.2018 00:00:00.000 GMT+0300</td>\n",
       "      <td>1.16905</td>\n",
       "      <td>1.17218</td>\n",
       "      <td>1.16209</td>\n",
       "      <td>1.16246</td>\n",
       "      <td>2.132539e+05</td>\n",
       "      <td>1</td>\n",
       "    </tr>\n",
       "    <tr>\n",
       "      <th>4088</th>\n",
       "      <td>20.11.2018 00:00:00.000 GMT+0200</td>\n",
       "      <td>1.14558</td>\n",
       "      <td>1.14725</td>\n",
       "      <td>1.13589</td>\n",
       "      <td>1.13718</td>\n",
       "      <td>2.437527e+05</td>\n",
       "      <td>1</td>\n",
       "    </tr>\n",
       "    <tr>\n",
       "      <th>4111</th>\n",
       "      <td>21.12.2018 00:00:00.000 GMT+0200</td>\n",
       "      <td>1.14468</td>\n",
       "      <td>1.14743</td>\n",
       "      <td>1.13563</td>\n",
       "      <td>1.13718</td>\n",
       "      <td>4.632093e+05</td>\n",
       "      <td>1</td>\n",
       "    </tr>\n",
       "    <tr>\n",
       "      <th>4149</th>\n",
       "      <td>13.02.2019 00:00:00.000 GMT+0200</td>\n",
       "      <td>1.13260</td>\n",
       "      <td>1.13417</td>\n",
       "      <td>1.12606</td>\n",
       "      <td>1.12611</td>\n",
       "      <td>3.907603e+05</td>\n",
       "      <td>1</td>\n",
       "    </tr>\n",
       "    <tr>\n",
       "      <th>4261</th>\n",
       "      <td>19.07.2019 00:00:00.000 GMT+0300</td>\n",
       "      <td>1.12776</td>\n",
       "      <td>1.12822</td>\n",
       "      <td>1.12037</td>\n",
       "      <td>1.12226</td>\n",
       "      <td>2.943429e+05</td>\n",
       "      <td>1</td>\n",
       "    </tr>\n",
       "  </tbody>\n",
       "</table>\n",
       "<p>131 rows × 7 columns</p>\n",
       "</div>"
      ],
      "text/plain": [
       "                            Local time     open     high      low    close  \\\n",
       "72    12.08.2003 00:00:00.000 GMT+0300  1.13588  1.13715  1.12758  1.12830   \n",
       "74    14.08.2003 00:00:00.000 GMT+0300  1.13233  1.13375  1.12244  1.12577   \n",
       "114   09.10.2003 00:00:00.000 GMT+0300  1.18097  1.18604  1.16840  1.17457   \n",
       "116   13.10.2003 00:00:00.000 GMT+0300  1.18109  1.18150  1.16523  1.17030   \n",
       "158   10.12.2003 00:00:00.000 GMT+0200  1.22576  1.22649  1.21523  1.22145   \n",
       "...                                ...      ...      ...      ...      ...   \n",
       "4041  14.09.2018 00:00:00.000 GMT+0300  1.16905  1.17218  1.16209  1.16246   \n",
       "4088  20.11.2018 00:00:00.000 GMT+0200  1.14558  1.14725  1.13589  1.13718   \n",
       "4111  21.12.2018 00:00:00.000 GMT+0200  1.14468  1.14743  1.13563  1.13718   \n",
       "4149  13.02.2019 00:00:00.000 GMT+0200  1.13260  1.13417  1.12606  1.12611   \n",
       "4261  19.07.2019 00:00:00.000 GMT+0300  1.12776  1.12822  1.12037  1.12226   \n",
       "\n",
       "            volume  signals  \n",
       "72    1.107321e+06        1  \n",
       "74    1.101309e+06        1  \n",
       "114   1.122516e+06        1  \n",
       "116   1.099261e+06        1  \n",
       "158   1.114964e+06        1  \n",
       "...            ...      ...  \n",
       "4041  2.132539e+05        1  \n",
       "4088  2.437527e+05        1  \n",
       "4111  4.632093e+05        1  \n",
       "4149  3.907603e+05        1  \n",
       "4261  2.943429e+05        1  \n",
       "\n",
       "[131 rows x 7 columns]"
      ]
     },
     "execution_count": 33,
     "metadata": {},
     "output_type": "execute_result"
    }
   ],
   "source": [
    "df[df['signals'] == 1]"
   ]
  },
  {
   "cell_type": "markdown",
   "id": "a574aa43",
   "metadata": {},
   "source": [
    "## Getting All Bullish Engulfing Patterns"
   ]
  },
  {
   "cell_type": "code",
   "execution_count": 34,
   "id": "2d179e60",
   "metadata": {},
   "outputs": [
    {
     "data": {
      "text/html": [
       "<div>\n",
       "<style scoped>\n",
       "    .dataframe tbody tr th:only-of-type {\n",
       "        vertical-align: middle;\n",
       "    }\n",
       "\n",
       "    .dataframe tbody tr th {\n",
       "        vertical-align: top;\n",
       "    }\n",
       "\n",
       "    .dataframe thead th {\n",
       "        text-align: right;\n",
       "    }\n",
       "</style>\n",
       "<table border=\"1\" class=\"dataframe\">\n",
       "  <thead>\n",
       "    <tr style=\"text-align: right;\">\n",
       "      <th></th>\n",
       "      <th>Local time</th>\n",
       "      <th>open</th>\n",
       "      <th>high</th>\n",
       "      <th>low</th>\n",
       "      <th>close</th>\n",
       "      <th>volume</th>\n",
       "      <th>signals</th>\n",
       "    </tr>\n",
       "  </thead>\n",
       "  <tbody>\n",
       "    <tr>\n",
       "      <th>3</th>\n",
       "      <td>08.05.2003 00:00:00.000 GMT+0300</td>\n",
       "      <td>1.13675</td>\n",
       "      <td>1.15092</td>\n",
       "      <td>1.13026</td>\n",
       "      <td>1.15026</td>\n",
       "      <td>1.058909e+06</td>\n",
       "      <td>2</td>\n",
       "    </tr>\n",
       "    <tr>\n",
       "      <th>9</th>\n",
       "      <td>16.05.2003 00:00:00.000 GMT+0300</td>\n",
       "      <td>1.13845</td>\n",
       "      <td>1.15786</td>\n",
       "      <td>1.13691</td>\n",
       "      <td>1.15735</td>\n",
       "      <td>1.060084e+06</td>\n",
       "      <td>2</td>\n",
       "    </tr>\n",
       "    <tr>\n",
       "      <th>24</th>\n",
       "      <td>05.06.2003 00:00:00.000 GMT+0300</td>\n",
       "      <td>1.16635</td>\n",
       "      <td>1.18860</td>\n",
       "      <td>1.16287</td>\n",
       "      <td>1.18405</td>\n",
       "      <td>1.051562e+06</td>\n",
       "      <td>2</td>\n",
       "    </tr>\n",
       "    <tr>\n",
       "      <th>28</th>\n",
       "      <td>11.06.2003 00:00:00.000 GMT+0300</td>\n",
       "      <td>1.16746</td>\n",
       "      <td>1.17820</td>\n",
       "      <td>1.16581</td>\n",
       "      <td>1.17421</td>\n",
       "      <td>1.069003e+06</td>\n",
       "      <td>2</td>\n",
       "    </tr>\n",
       "    <tr>\n",
       "      <th>111</th>\n",
       "      <td>06.10.2003 00:00:00.000 GMT+0300</td>\n",
       "      <td>1.15655</td>\n",
       "      <td>1.17237</td>\n",
       "      <td>1.15322</td>\n",
       "      <td>1.17079</td>\n",
       "      <td>1.118040e+06</td>\n",
       "      <td>2</td>\n",
       "    </tr>\n",
       "    <tr>\n",
       "      <th>...</th>\n",
       "      <td>...</td>\n",
       "      <td>...</td>\n",
       "      <td>...</td>\n",
       "      <td>...</td>\n",
       "      <td>...</td>\n",
       "      <td>...</td>\n",
       "      <td>...</td>\n",
       "    </tr>\n",
       "    <tr>\n",
       "      <th>4075</th>\n",
       "      <td>31.10.2018 23:00:00.000 GMT+0200</td>\n",
       "      <td>1.13128</td>\n",
       "      <td>1.14244</td>\n",
       "      <td>1.13083</td>\n",
       "      <td>1.14092</td>\n",
       "      <td>2.458733e+05</td>\n",
       "      <td>2</td>\n",
       "    </tr>\n",
       "    <tr>\n",
       "      <th>4136</th>\n",
       "      <td>25.01.2019 00:00:00.000 GMT+0200</td>\n",
       "      <td>1.13064</td>\n",
       "      <td>1.14177</td>\n",
       "      <td>1.13011</td>\n",
       "      <td>1.14089</td>\n",
       "      <td>4.335506e+05</td>\n",
       "      <td>2</td>\n",
       "    </tr>\n",
       "    <tr>\n",
       "      <th>4148</th>\n",
       "      <td>12.02.2019 00:00:00.000 GMT+0200</td>\n",
       "      <td>1.12763</td>\n",
       "      <td>1.13398</td>\n",
       "      <td>1.12579</td>\n",
       "      <td>1.13259</td>\n",
       "      <td>4.096074e+05</td>\n",
       "      <td>2</td>\n",
       "    </tr>\n",
       "    <tr>\n",
       "      <th>4230</th>\n",
       "      <td>06.06.2019 00:00:00.000 GMT+0300</td>\n",
       "      <td>1.12216</td>\n",
       "      <td>1.13092</td>\n",
       "      <td>1.12015</td>\n",
       "      <td>1.12761</td>\n",
       "      <td>3.748953e+05</td>\n",
       "      <td>2</td>\n",
       "    </tr>\n",
       "    <tr>\n",
       "      <th>4300</th>\n",
       "      <td>12.09.2019 00:00:00.000 GMT+0300</td>\n",
       "      <td>1.10104</td>\n",
       "      <td>1.10873</td>\n",
       "      <td>1.09269</td>\n",
       "      <td>1.10650</td>\n",
       "      <td>1.934849e+05</td>\n",
       "      <td>2</td>\n",
       "    </tr>\n",
       "  </tbody>\n",
       "</table>\n",
       "<p>117 rows × 7 columns</p>\n",
       "</div>"
      ],
      "text/plain": [
       "                            Local time     open     high      low    close  \\\n",
       "3     08.05.2003 00:00:00.000 GMT+0300  1.13675  1.15092  1.13026  1.15026   \n",
       "9     16.05.2003 00:00:00.000 GMT+0300  1.13845  1.15786  1.13691  1.15735   \n",
       "24    05.06.2003 00:00:00.000 GMT+0300  1.16635  1.18860  1.16287  1.18405   \n",
       "28    11.06.2003 00:00:00.000 GMT+0300  1.16746  1.17820  1.16581  1.17421   \n",
       "111   06.10.2003 00:00:00.000 GMT+0300  1.15655  1.17237  1.15322  1.17079   \n",
       "...                                ...      ...      ...      ...      ...   \n",
       "4075  31.10.2018 23:00:00.000 GMT+0200  1.13128  1.14244  1.13083  1.14092   \n",
       "4136  25.01.2019 00:00:00.000 GMT+0200  1.13064  1.14177  1.13011  1.14089   \n",
       "4148  12.02.2019 00:00:00.000 GMT+0200  1.12763  1.13398  1.12579  1.13259   \n",
       "4230  06.06.2019 00:00:00.000 GMT+0300  1.12216  1.13092  1.12015  1.12761   \n",
       "4300  12.09.2019 00:00:00.000 GMT+0300  1.10104  1.10873  1.09269  1.10650   \n",
       "\n",
       "            volume  signals  \n",
       "3     1.058909e+06        2  \n",
       "9     1.060084e+06        2  \n",
       "24    1.051562e+06        2  \n",
       "28    1.069003e+06        2  \n",
       "111   1.118040e+06        2  \n",
       "...            ...      ...  \n",
       "4075  2.458733e+05        2  \n",
       "4136  4.335506e+05        2  \n",
       "4148  4.096074e+05        2  \n",
       "4230  3.748953e+05        2  \n",
       "4300  1.934849e+05        2  \n",
       "\n",
       "[117 rows x 7 columns]"
      ]
     },
     "execution_count": 34,
     "metadata": {},
     "output_type": "execute_result"
    }
   ],
   "source": [
    "df[df['signals'] == 2]"
   ]
  },
  {
   "cell_type": "markdown",
   "id": "862ee97c",
   "metadata": {},
   "source": [
    "## Getting count of Bearish Engulfing Patterns Found."
   ]
  },
  {
   "cell_type": "code",
   "execution_count": 35,
   "id": "7375bb58",
   "metadata": {},
   "outputs": [
    {
     "data": {
      "text/plain": [
       "Local time    131\n",
       "open          131\n",
       "high          131\n",
       "low           131\n",
       "close         131\n",
       "volume        131\n",
       "signals       131\n",
       "dtype: int64"
      ]
     },
     "execution_count": 35,
     "metadata": {},
     "output_type": "execute_result"
    }
   ],
   "source": [
    "df[df['signals'] == 1].count()"
   ]
  },
  {
   "cell_type": "markdown",
   "id": "577acdc8",
   "metadata": {},
   "source": [
    "## Getting count of Bullish Engulfing Patterns Found."
   ]
  },
  {
   "cell_type": "code",
   "execution_count": 36,
   "id": "85c22309",
   "metadata": {},
   "outputs": [
    {
     "data": {
      "text/plain": [
       "Local time    117\n",
       "open          117\n",
       "high          117\n",
       "low           117\n",
       "close         117\n",
       "volume        117\n",
       "signals       117\n",
       "dtype: int64"
      ]
     },
     "execution_count": 36,
     "metadata": {},
     "output_type": "execute_result"
    }
   ],
   "source": [
    "df[df['signals'] == 2].count()"
   ]
  },
  {
   "cell_type": "markdown",
   "id": "4d1043f8",
   "metadata": {},
   "source": [
    "# Identifying the Trend (Bearish / Bullish) - Approx (To Check Validity)"
   ]
  },
  {
   "cell_type": "code",
   "execution_count": 37,
   "id": "18b59077",
   "metadata": {},
   "outputs": [],
   "source": [
    "def IdentifyTrend(dataFrame, barsFront):\n",
    "    dataFrameLength = len(dataFrame)\n",
    "    highArray = list(dataFrame['high'])\n",
    "    lowArray = list(dataFrame['low'])\n",
    "    closeArray = list(dataFrame['close'])\n",
    "    openArray = list(dataFrame['open'])\n",
    "    trendArray = [None] * dataFrameLength\n",
    "    differenceInPips = 300e-5 # This is 0.003 in python\n",
    "    for counterLine in range(0, dataFrameLength - (barsFront - 1)):\n",
    "        for limit in range(1, barsFront + 1):\n",
    "            if (highArray[counterLine + limit] - max(closeArray[counterLine], openArray[counterLine])) > differenceInPips:\n",
    "                trendArray[counterLine] = 2 # Upward or Bullish Trend.\n",
    "                break\n",
    "            elif (min(openArray[counterLine], closeArray[counterLine]) - lowArray[counterLine + limit] > differenceInPips):\n",
    "                trendArray[counterLine] = 1 # Downward or Bearish Trend.\n",
    "                break\n",
    "            else:\n",
    "                trendArray[counterLine] = 0 # No clear Trend.\n",
    "    df['trendsApprox'] = trendArray\n",
    "    return df"
   ]
  },
  {
   "cell_type": "code",
   "execution_count": 38,
   "id": "950015ec",
   "metadata": {},
   "outputs": [
    {
     "data": {
      "text/html": [
       "<div>\n",
       "<style scoped>\n",
       "    .dataframe tbody tr th:only-of-type {\n",
       "        vertical-align: middle;\n",
       "    }\n",
       "\n",
       "    .dataframe tbody tr th {\n",
       "        vertical-align: top;\n",
       "    }\n",
       "\n",
       "    .dataframe thead th {\n",
       "        text-align: right;\n",
       "    }\n",
       "</style>\n",
       "<table border=\"1\" class=\"dataframe\">\n",
       "  <thead>\n",
       "    <tr style=\"text-align: right;\">\n",
       "      <th></th>\n",
       "      <th>Local time</th>\n",
       "      <th>open</th>\n",
       "      <th>high</th>\n",
       "      <th>low</th>\n",
       "      <th>close</th>\n",
       "      <th>volume</th>\n",
       "      <th>signals</th>\n",
       "      <th>trendsApprox</th>\n",
       "    </tr>\n",
       "  </thead>\n",
       "  <tbody>\n",
       "    <tr>\n",
       "      <th>0</th>\n",
       "      <td>05.05.2003 00:00:00.000 GMT+0300</td>\n",
       "      <td>1.12354</td>\n",
       "      <td>1.13019</td>\n",
       "      <td>1.12030</td>\n",
       "      <td>1.12804</td>\n",
       "      <td>1.053163e+06</td>\n",
       "      <td>0</td>\n",
       "      <td>2.0</td>\n",
       "    </tr>\n",
       "    <tr>\n",
       "      <th>1</th>\n",
       "      <td>06.05.2003 00:00:00.000 GMT+0300</td>\n",
       "      <td>1.12798</td>\n",
       "      <td>1.14510</td>\n",
       "      <td>1.12738</td>\n",
       "      <td>1.14368</td>\n",
       "      <td>1.061123e+06</td>\n",
       "      <td>0</td>\n",
       "      <td>2.0</td>\n",
       "    </tr>\n",
       "    <tr>\n",
       "      <th>2</th>\n",
       "      <td>07.05.2003 00:00:00.000 GMT+0300</td>\n",
       "      <td>1.14367</td>\n",
       "      <td>1.14448</td>\n",
       "      <td>1.13275</td>\n",
       "      <td>1.13677</td>\n",
       "      <td>1.056797e+06</td>\n",
       "      <td>0</td>\n",
       "      <td>2.0</td>\n",
       "    </tr>\n",
       "    <tr>\n",
       "      <th>3</th>\n",
       "      <td>08.05.2003 00:00:00.000 GMT+0300</td>\n",
       "      <td>1.13675</td>\n",
       "      <td>1.15092</td>\n",
       "      <td>1.13026</td>\n",
       "      <td>1.15026</td>\n",
       "      <td>1.058909e+06</td>\n",
       "      <td>2</td>\n",
       "      <td>2.0</td>\n",
       "    </tr>\n",
       "    <tr>\n",
       "      <th>4</th>\n",
       "      <td>09.05.2003 00:00:00.000 GMT+0300</td>\n",
       "      <td>1.15002</td>\n",
       "      <td>1.15376</td>\n",
       "      <td>1.14362</td>\n",
       "      <td>1.14907</td>\n",
       "      <td>1.063989e+06</td>\n",
       "      <td>0</td>\n",
       "      <td>2.0</td>\n",
       "    </tr>\n",
       "    <tr>\n",
       "      <th>...</th>\n",
       "      <td>...</td>\n",
       "      <td>...</td>\n",
       "      <td>...</td>\n",
       "      <td>...</td>\n",
       "      <td>...</td>\n",
       "      <td>...</td>\n",
       "      <td>...</td>\n",
       "      <td>...</td>\n",
       "    </tr>\n",
       "    <tr>\n",
       "      <th>4322</th>\n",
       "      <td>14.10.2019 00:00:00.000 GMT+0300</td>\n",
       "      <td>1.10399</td>\n",
       "      <td>1.10428</td>\n",
       "      <td>1.10129</td>\n",
       "      <td>1.10281</td>\n",
       "      <td>1.503300e+05</td>\n",
       "      <td>0</td>\n",
       "      <td>1.0</td>\n",
       "    </tr>\n",
       "    <tr>\n",
       "      <th>4323</th>\n",
       "      <td>15.10.2019 00:00:00.000 GMT+0300</td>\n",
       "      <td>1.10281</td>\n",
       "      <td>1.10463</td>\n",
       "      <td>1.09915</td>\n",
       "      <td>1.10338</td>\n",
       "      <td>2.251145e+05</td>\n",
       "      <td>0</td>\n",
       "      <td>2.0</td>\n",
       "    </tr>\n",
       "    <tr>\n",
       "      <th>4324</th>\n",
       "      <td>16.10.2019 00:00:00.000 GMT+0300</td>\n",
       "      <td>1.10331</td>\n",
       "      <td>1.10857</td>\n",
       "      <td>1.10226</td>\n",
       "      <td>1.10720</td>\n",
       "      <td>2.241794e+05</td>\n",
       "      <td>0</td>\n",
       "      <td>2.0</td>\n",
       "    </tr>\n",
       "    <tr>\n",
       "      <th>4325</th>\n",
       "      <td>17.10.2019 00:00:00.000 GMT+0300</td>\n",
       "      <td>1.10724</td>\n",
       "      <td>1.11400</td>\n",
       "      <td>1.10653</td>\n",
       "      <td>1.11254</td>\n",
       "      <td>2.219226e+05</td>\n",
       "      <td>0</td>\n",
       "      <td>NaN</td>\n",
       "    </tr>\n",
       "    <tr>\n",
       "      <th>4326</th>\n",
       "      <td>18.10.2019 00:00:00.000 GMT+0300</td>\n",
       "      <td>1.11256</td>\n",
       "      <td>1.11727</td>\n",
       "      <td>1.11149</td>\n",
       "      <td>1.11723</td>\n",
       "      <td>1.430738e+05</td>\n",
       "      <td>0</td>\n",
       "      <td>NaN</td>\n",
       "    </tr>\n",
       "  </tbody>\n",
       "</table>\n",
       "<p>4327 rows × 8 columns</p>\n",
       "</div>"
      ],
      "text/plain": [
       "                            Local time     open     high      low    close  \\\n",
       "0     05.05.2003 00:00:00.000 GMT+0300  1.12354  1.13019  1.12030  1.12804   \n",
       "1     06.05.2003 00:00:00.000 GMT+0300  1.12798  1.14510  1.12738  1.14368   \n",
       "2     07.05.2003 00:00:00.000 GMT+0300  1.14367  1.14448  1.13275  1.13677   \n",
       "3     08.05.2003 00:00:00.000 GMT+0300  1.13675  1.15092  1.13026  1.15026   \n",
       "4     09.05.2003 00:00:00.000 GMT+0300  1.15002  1.15376  1.14362  1.14907   \n",
       "...                                ...      ...      ...      ...      ...   \n",
       "4322  14.10.2019 00:00:00.000 GMT+0300  1.10399  1.10428  1.10129  1.10281   \n",
       "4323  15.10.2019 00:00:00.000 GMT+0300  1.10281  1.10463  1.09915  1.10338   \n",
       "4324  16.10.2019 00:00:00.000 GMT+0300  1.10331  1.10857  1.10226  1.10720   \n",
       "4325  17.10.2019 00:00:00.000 GMT+0300  1.10724  1.11400  1.10653  1.11254   \n",
       "4326  18.10.2019 00:00:00.000 GMT+0300  1.11256  1.11727  1.11149  1.11723   \n",
       "\n",
       "            volume  signals  trendsApprox  \n",
       "0     1.053163e+06        0           2.0  \n",
       "1     1.061123e+06        0           2.0  \n",
       "2     1.056797e+06        0           2.0  \n",
       "3     1.058909e+06        2           2.0  \n",
       "4     1.063989e+06        0           2.0  \n",
       "...            ...      ...           ...  \n",
       "4322  1.503300e+05        0           1.0  \n",
       "4323  2.251145e+05        0           2.0  \n",
       "4324  2.241794e+05        0           2.0  \n",
       "4325  2.219226e+05        0           NaN  \n",
       "4326  1.430738e+05        0           NaN  \n",
       "\n",
       "[4327 rows x 8 columns]"
      ]
     },
     "execution_count": 38,
     "metadata": {},
     "output_type": "execute_result"
    }
   ],
   "source": [
    "IdentifyTrend(df, 3)"
   ]
  },
  {
   "cell_type": "code",
   "execution_count": 39,
   "id": "956a6ac7",
   "metadata": {},
   "outputs": [
    {
     "name": "stdout",
     "output_type": "stream",
     "text": [
      "                            Local time     open     high      low    close  \\\n",
      "0     05.05.2003 00:00:00.000 GMT+0300  1.12354  1.13019  1.12030  1.12804   \n",
      "1     06.05.2003 00:00:00.000 GMT+0300  1.12798  1.14510  1.12738  1.14368   \n",
      "2     07.05.2003 00:00:00.000 GMT+0300  1.14367  1.14448  1.13275  1.13677   \n",
      "3     08.05.2003 00:00:00.000 GMT+0300  1.13675  1.15092  1.13026  1.15026   \n",
      "4     09.05.2003 00:00:00.000 GMT+0300  1.15002  1.15376  1.14362  1.14907   \n",
      "...                                ...      ...      ...      ...      ...   \n",
      "4322  14.10.2019 00:00:00.000 GMT+0300  1.10399  1.10428  1.10129  1.10281   \n",
      "4323  15.10.2019 00:00:00.000 GMT+0300  1.10281  1.10463  1.09915  1.10338   \n",
      "4324  16.10.2019 00:00:00.000 GMT+0300  1.10331  1.10857  1.10226  1.10720   \n",
      "4325  17.10.2019 00:00:00.000 GMT+0300  1.10724  1.11400  1.10653  1.11254   \n",
      "4326  18.10.2019 00:00:00.000 GMT+0300  1.11256  1.11727  1.11149  1.11723   \n",
      "\n",
      "            volume  signals  trendsApprox  result  \n",
      "0     1.053163e+06        0           2.0       0  \n",
      "1     1.061123e+06        0           2.0       0  \n",
      "2     1.056797e+06        0           2.0       0  \n",
      "3     1.058909e+06        2           2.0       2  \n",
      "4     1.063989e+06        0           2.0       0  \n",
      "...            ...      ...           ...     ...  \n",
      "4322  1.503300e+05        0           1.0       0  \n",
      "4323  2.251145e+05        0           2.0       0  \n",
      "4324  2.241794e+05        0           2.0       0  \n",
      "4325  2.219226e+05        0           NaN       0  \n",
      "4326  1.430738e+05        0           NaN       0  \n",
      "\n",
      "[4327 rows x 9 columns]\n"
     ]
    }
   ],
   "source": [
    "import numpy as np\n",
    "conditions = [(df['trendsApprox'] == 1) & (df['signals'] == 1), (df['trendsApprox'] == 2) & (df['signals'] == 2)]\n",
    "df['result'] = np.select(conditions, [1, 2])\n",
    "print(df)\n"
   ]
  },
  {
   "cell_type": "markdown",
   "id": "7ed3acc1",
   "metadata": {},
   "source": [
    "## Bullish Signals Generated"
   ]
  },
  {
   "cell_type": "code",
   "execution_count": 40,
   "id": "b512d9f9",
   "metadata": {},
   "outputs": [
    {
     "name": "stdout",
     "output_type": "stream",
     "text": [
      "                            Local time     open     high      low    close  \\\n",
      "3     08.05.2003 00:00:00.000 GMT+0300  1.13675  1.15092  1.13026  1.15026   \n",
      "9     16.05.2003 00:00:00.000 GMT+0300  1.13845  1.15786  1.13691  1.15735   \n",
      "24    05.06.2003 00:00:00.000 GMT+0300  1.16635  1.18860  1.16287  1.18405   \n",
      "28    11.06.2003 00:00:00.000 GMT+0300  1.16746  1.17820  1.16581  1.17421   \n",
      "111   06.10.2003 00:00:00.000 GMT+0300  1.15655  1.17237  1.15322  1.17079   \n",
      "...                                ...      ...      ...      ...      ...   \n",
      "4075  31.10.2018 23:00:00.000 GMT+0200  1.13128  1.14244  1.13083  1.14092   \n",
      "4136  25.01.2019 00:00:00.000 GMT+0200  1.13064  1.14177  1.13011  1.14089   \n",
      "4148  12.02.2019 00:00:00.000 GMT+0200  1.12763  1.13398  1.12579  1.13259   \n",
      "4230  06.06.2019 00:00:00.000 GMT+0300  1.12216  1.13092  1.12015  1.12761   \n",
      "4300  12.09.2019 00:00:00.000 GMT+0300  1.10104  1.10873  1.09269  1.10650   \n",
      "\n",
      "            volume  signals  trendsApprox  result  \n",
      "3     1.058909e+06        2           2.0       2  \n",
      "9     1.060084e+06        2           2.0       2  \n",
      "24    1.051562e+06        2           2.0       2  \n",
      "28    1.069003e+06        2           2.0       2  \n",
      "111   1.118040e+06        2           2.0       2  \n",
      "...            ...      ...           ...     ...  \n",
      "4075  2.458733e+05        2           2.0       2  \n",
      "4136  4.335506e+05        2           2.0       2  \n",
      "4148  4.096074e+05        2           1.0       0  \n",
      "4230  3.748953e+05        2           2.0       2  \n",
      "4300  1.934849e+05        2           2.0       2  \n",
      "\n",
      "[117 rows x 9 columns]\n",
      "117\n"
     ]
    }
   ],
   "source": [
    "bullishSignalsGeneratedDataFrame = df[df['signals'] == 2]\n",
    "bullishSignalsGeneratedDataFrameCount = bullishSignalsGeneratedDataFrame['signals'].count()\n",
    "print(bullishSignalsGeneratedDataFrame)\n",
    "print(bullishSignalsGeneratedDataFrameCount)"
   ]
  },
  {
   "cell_type": "markdown",
   "id": "b177b033",
   "metadata": {},
   "source": [
    "## Bearish Signals Generated"
   ]
  },
  {
   "cell_type": "code",
   "execution_count": 41,
   "id": "b1d367ba",
   "metadata": {},
   "outputs": [
    {
     "name": "stdout",
     "output_type": "stream",
     "text": [
      "                            Local time     open     high      low    close  \\\n",
      "72    12.08.2003 00:00:00.000 GMT+0300  1.13588  1.13715  1.12758  1.12830   \n",
      "74    14.08.2003 00:00:00.000 GMT+0300  1.13233  1.13375  1.12244  1.12577   \n",
      "114   09.10.2003 00:00:00.000 GMT+0300  1.18097  1.18604  1.16840  1.17457   \n",
      "116   13.10.2003 00:00:00.000 GMT+0300  1.18109  1.18150  1.16523  1.17030   \n",
      "158   10.12.2003 00:00:00.000 GMT+0200  1.22576  1.22649  1.21523  1.22145   \n",
      "...                                ...      ...      ...      ...      ...   \n",
      "4041  14.09.2018 00:00:00.000 GMT+0300  1.16905  1.17218  1.16209  1.16246   \n",
      "4088  20.11.2018 00:00:00.000 GMT+0200  1.14558  1.14725  1.13589  1.13718   \n",
      "4111  21.12.2018 00:00:00.000 GMT+0200  1.14468  1.14743  1.13563  1.13718   \n",
      "4149  13.02.2019 00:00:00.000 GMT+0200  1.13260  1.13417  1.12606  1.12611   \n",
      "4261  19.07.2019 00:00:00.000 GMT+0300  1.12776  1.12822  1.12037  1.12226   \n",
      "\n",
      "            volume  signals  trendsApprox  result  \n",
      "72    1.107321e+06        1           1.0       1  \n",
      "74    1.101309e+06        1           1.0       1  \n",
      "114   1.122516e+06        1           2.0       0  \n",
      "116   1.099261e+06        1           1.0       1  \n",
      "158   1.114964e+06        1           1.0       1  \n",
      "...            ...      ...           ...     ...  \n",
      "4041  2.132539e+05        1           2.0       0  \n",
      "4088  2.437527e+05        1           1.0       1  \n",
      "4111  4.632093e+05        1           0.0       0  \n",
      "4149  3.907603e+05        1           0.0       0  \n",
      "4261  2.943429e+05        1           1.0       1  \n",
      "\n",
      "[131 rows x 9 columns]\n",
      "131\n"
     ]
    }
   ],
   "source": [
    "bearishSignalsGeneratedDataFrame = df[df['signals'] == 1]\n",
    "bearishSignalsGeneratedDataFrameCount = bearishSignalsGeneratedDataFrame['signals'].count()\n",
    "print(bearishSignalsGeneratedDataFrame)\n",
    "print(bearishSignalsGeneratedDataFrameCount)\n"
   ]
  },
  {
   "cell_type": "markdown",
   "id": "9effcefe",
   "metadata": {},
   "source": [
    "## Bullish Results Generated"
   ]
  },
  {
   "cell_type": "code",
   "execution_count": 46,
   "id": "8dfa989a",
   "metadata": {},
   "outputs": [
    {
     "name": "stdout",
     "output_type": "stream",
     "text": [
      "                            Local time     open     high      low    close  \\\n",
      "3     08.05.2003 00:00:00.000 GMT+0300  1.13675  1.15092  1.13026  1.15026   \n",
      "9     16.05.2003 00:00:00.000 GMT+0300  1.13845  1.15786  1.13691  1.15735   \n",
      "24    05.06.2003 00:00:00.000 GMT+0300  1.16635  1.18860  1.16287  1.18405   \n",
      "28    11.06.2003 00:00:00.000 GMT+0300  1.16746  1.17820  1.16581  1.17421   \n",
      "111   06.10.2003 00:00:00.000 GMT+0300  1.15655  1.17237  1.15322  1.17079   \n",
      "...                                ...      ...      ...      ...      ...   \n",
      "4026  24.08.2018 00:00:00.000 GMT+0300  1.15412  1.16400  1.15352  1.16223   \n",
      "4075  31.10.2018 23:00:00.000 GMT+0200  1.13128  1.14244  1.13083  1.14092   \n",
      "4136  25.01.2019 00:00:00.000 GMT+0200  1.13064  1.14177  1.13011  1.14089   \n",
      "4230  06.06.2019 00:00:00.000 GMT+0300  1.12216  1.13092  1.12015  1.12761   \n",
      "4300  12.09.2019 00:00:00.000 GMT+0300  1.10104  1.10873  1.09269  1.10650   \n",
      "\n",
      "            volume  signals  trendsApprox  result  \n",
      "3     1.058909e+06        2           2.0       2  \n",
      "9     1.060084e+06        2           2.0       2  \n",
      "24    1.051562e+06        2           2.0       2  \n",
      "28    1.069003e+06        2           2.0       2  \n",
      "111   1.118040e+06        2           2.0       2  \n",
      "...            ...      ...           ...     ...  \n",
      "4026  2.376487e+05        2           2.0       2  \n",
      "4075  2.458733e+05        2           2.0       2  \n",
      "4136  4.335506e+05        2           2.0       2  \n",
      "4230  3.748953e+05        2           2.0       2  \n",
      "4300  1.934849e+05        2           2.0       2  \n",
      "\n",
      "[101 rows x 9 columns]\n",
      "101\n"
     ]
    }
   ],
   "source": [
    "bullishResultsGeneratedDataFrame = df[df['result'] == 2]\n",
    "bullishResultsGeneratedDataFrameCount = bullishResultsGeneratedDataFrame['result'].count()\n",
    "print(bullishResultsGeneratedDataFrame)\n",
    "print(bullishResultsGeneratedDataFrameCount)\n"
   ]
  },
  {
   "cell_type": "markdown",
   "id": "41875571",
   "metadata": {},
   "source": [
    "## Bearish Results Generated"
   ]
  },
  {
   "cell_type": "code",
   "execution_count": 47,
   "id": "f0a6929c",
   "metadata": {},
   "outputs": [
    {
     "name": "stdout",
     "output_type": "stream",
     "text": [
      "                            Local time     open     high      low    close  \\\n",
      "72    12.08.2003 00:00:00.000 GMT+0300  1.13588  1.13715  1.12758  1.12830   \n",
      "74    14.08.2003 00:00:00.000 GMT+0300  1.13233  1.13375  1.12244  1.12577   \n",
      "116   13.10.2003 00:00:00.000 GMT+0300  1.18109  1.18150  1.16523  1.17030   \n",
      "158   10.12.2003 00:00:00.000 GMT+0200  1.22576  1.22649  1.21523  1.22145   \n",
      "181   12.01.2004 00:00:00.000 GMT+0200  1.28538  1.28971  1.27342  1.27493   \n",
      "...                                ...      ...      ...      ...      ...   \n",
      "3978  19.06.2018 00:00:00.000 GMT+0300  1.16233  1.16448  1.15309  1.15905   \n",
      "3983  26.06.2018 00:00:00.000 GMT+0300  1.17045  1.17205  1.16351  1.16483   \n",
      "4018  14.08.2018 00:00:00.000 GMT+0300  1.14107  1.14296  1.13304  1.13445   \n",
      "4088  20.11.2018 00:00:00.000 GMT+0200  1.14558  1.14725  1.13589  1.13718   \n",
      "4261  19.07.2019 00:00:00.000 GMT+0300  1.12776  1.12822  1.12037  1.12226   \n",
      "\n",
      "            volume  signals  trendsApprox  result  \n",
      "72    1.107321e+06        1           1.0       1  \n",
      "74    1.101309e+06        1           1.0       1  \n",
      "116   1.099261e+06        1           1.0       1  \n",
      "158   1.114964e+06        1           1.0       1  \n",
      "181   1.108322e+06        1           1.0       1  \n",
      "...            ...      ...           ...     ...  \n",
      "3978  2.842281e+05        1           1.0       1  \n",
      "3983  2.851892e+05        1           1.0       1  \n",
      "4018  2.646763e+05        1           1.0       1  \n",
      "4088  2.437527e+05        1           1.0       1  \n",
      "4261  2.943429e+05        1           1.0       1  \n",
      "\n",
      "[96 rows x 9 columns]\n",
      "96\n"
     ]
    }
   ],
   "source": [
    "bearishResultsGeneratedDataFrame = df[df['result'] == 1]\n",
    "bearishResultsGeneratedDataFrameCount = bearishResultsGeneratedDataFrame['result'].count()\n",
    "print(bearishResultsGeneratedDataFrame)\n",
    "print(bearishResultsGeneratedDataFrameCount)\n"
   ]
  },
  {
   "cell_type": "markdown",
   "id": "f02a9eee",
   "metadata": {},
   "source": [
    "## Ratio of Bullish Results Generated VS Bullish Signals Generated"
   ]
  },
  {
   "cell_type": "code",
   "execution_count": 53,
   "id": "74b1ef88",
   "metadata": {},
   "outputs": [
    {
     "name": "stdout",
     "output_type": "stream",
     "text": [
      "101\n",
      "117\n",
      "0.8632478632478633\n"
     ]
    }
   ],
   "source": [
    "print(bullishResultsGeneratedDataFrameCount)\n",
    "print(bullishSignalsGeneratedDataFrameCount)\n",
    "print(bullishResultsGeneratedDataFrameCount / bullishSignalsGeneratedDataFrameCount)"
   ]
  },
  {
   "cell_type": "markdown",
   "id": "b8ca7c88",
   "metadata": {},
   "source": [
    "## Ratio of Bearish Results Generated VS Bearish Signals Generated"
   ]
  },
  {
   "cell_type": "code",
   "execution_count": 54,
   "id": "719032eb",
   "metadata": {},
   "outputs": [
    {
     "name": "stdout",
     "output_type": "stream",
     "text": [
      "96\n",
      "131\n",
      "0.732824427480916\n"
     ]
    }
   ],
   "source": [
    "print(bearishResultsGeneratedDataFrameCount)\n",
    "print(bearishSignalsGeneratedDataFrameCount)\n",
    "print(bearishResultsGeneratedDataFrameCount / bearishSignalsGeneratedDataFrameCount)"
   ]
  },
  {
   "cell_type": "markdown",
   "id": "6a40f25f",
   "metadata": {},
   "source": [
    "## False Positive Values"
   ]
  },
  {
   "cell_type": "code",
   "execution_count": 62,
   "id": "c1bcf56c",
   "metadata": {},
   "outputs": [
    {
     "name": "stdout",
     "output_type": "stream",
     "text": [
      "                            Local time     open     high      low    close  \\\n",
      "224   11.03.2004 00:00:00.000 GMT+0200  1.22216  1.23841  1.21627  1.23504   \n",
      "417   03.12.2004 00:00:00.000 GMT+0200  1.32682  1.34604  1.32513  1.34505   \n",
      "675   28.11.2005 00:00:00.000 GMT+0200  1.17096  1.19015  1.16806  1.18475   \n",
      "1049  27.04.2007 00:00:00.000 GMT+0300  1.36020  1.36830  1.35860  1.36540   \n",
      "1609  11.06.2009 00:00:00.000 GMT+0300  1.39863  1.41730  1.39440  1.41095   \n",
      "2133  07.06.2011 00:00:00.000 GMT+0300  1.45766  1.46964  1.45646  1.46923   \n",
      "2215  29.09.2011 00:00:00.000 GMT+0300  1.35433  1.36784  1.35205  1.35985   \n",
      "2244  08.11.2011 00:00:00.000 GMT+0200  1.37771  1.38480  1.37252  1.38339   \n",
      "2624  16.04.2013 00:00:00.000 GMT+0300  1.30351  1.32020  1.30298  1.31781   \n",
      "3082  09.01.2015 00:00:00.000 GMT+0200  1.17929  1.18464  1.17630  1.18425   \n",
      "3204  29.06.2015 00:00:00.000 GMT+0300  1.10073  1.12786  1.09550  1.12362   \n",
      "3228  31.07.2015 00:00:00.000 GMT+0300  1.09335  1.11144  1.09213  1.09861   \n",
      "3707  02.06.2017 00:00:00.000 GMT+0300  1.12130  1.12852  1.12052  1.12851   \n",
      "3860  04.01.2018 00:00:00.000 GMT+0200  1.20146  1.20890  1.20046  1.20685   \n",
      "4034  05.09.2018 00:00:00.000 GMT+0300  1.15828  1.16401  1.15430  1.16303   \n",
      "4148  12.02.2019 00:00:00.000 GMT+0200  1.12763  1.13398  1.12579  1.13259   \n",
      "\n",
      "            volume  signals  trendsApprox  result  \n",
      "224   1.129471e+06        2           1.0       0  \n",
      "417   1.100705e+06        2           1.0       0  \n",
      "675   1.080417e+06        2           0.0       0  \n",
      "1049  1.024237e+06        2           1.0       0  \n",
      "1609  5.543684e+05        2           1.0       0  \n",
      "2133  2.083190e+05        2           1.0       0  \n",
      "2215  2.839137e+05        2           1.0       0  \n",
      "2244  2.502527e+05        2           1.0       0  \n",
      "2624  2.836193e+05        2           1.0       0  \n",
      "3082  1.665926e+05        2           1.0       0  \n",
      "3204  2.400577e+05        2           0.0       0  \n",
      "3228  1.927528e+05        2           1.0       0  \n",
      "3707  1.691527e+05        2           0.0       0  \n",
      "3860  2.100527e+05        2           1.0       0  \n",
      "4034  2.581394e+05        2           1.0       0  \n",
      "4148  4.096074e+05        2           1.0       0  \n",
      "                            Local time     open     high      low    close  \\\n",
      "114   09.10.2003 00:00:00.000 GMT+0300  1.18097  1.18604  1.16840  1.17457   \n",
      "174   01.01.2004 00:00:00.000 GMT+0200  1.25931  1.26052  1.24698  1.25454   \n",
      "258   28.04.2004 00:00:00.000 GMT+0300  1.19263  1.19506  1.18216  1.18423   \n",
      "426   16.12.2004 00:00:00.000 GMT+0200  1.33930  1.34280  1.31931  1.32404   \n",
      "709   12.01.2006 00:00:00.000 GMT+0200  1.21270  1.21617  1.20079  1.20353   \n",
      "806   26.05.2006 00:00:00.000 GMT+0300  1.27998  1.28334  1.27004  1.27344   \n",
      "1185  31.10.2007 23:00:00.000 GMT+0200  1.44874  1.44895  1.44005  1.44237   \n",
      "1539  05.03.2009 00:00:00.000 GMT+0200  1.26615  1.26645  1.24820  1.25415   \n",
      "1616  22.06.2009 00:00:00.000 GMT+0300  1.39494  1.39605  1.38270  1.38675   \n",
      "1761  07.01.2010 00:00:00.000 GMT+0200  1.44079  1.44439  1.42982  1.43061   \n",
      "1808  14.03.2010 23:00:00.000 GMT+0200  1.37707  1.37790  1.36392  1.36764   \n",
      "1819  30.03.2010 00:00:00.000 GMT+0300  1.34824  1.35356  1.33939  1.34125   \n",
      "1855  18.05.2010 00:00:00.000 GMT+0300  1.23940  1.24442  1.21650  1.22014   \n",
      "2438  01.08.2012 00:00:00.000 GMT+0300  1.23038  1.23372  1.22190  1.22263   \n",
      "2604  18.03.2013 23:00:00.000 GMT+0200  1.29567  1.29701  1.28469  1.28823   \n",
      "2684  09.07.2013 00:00:00.000 GMT+0300  1.28708  1.28984  1.27556  1.27818   \n",
      "2701  01.08.2013 00:00:00.000 GMT+0300  1.33036  1.33110  1.31950  1.32071   \n",
      "2922  02.06.2014 00:00:00.000 GMT+0300  1.36382  1.36386  1.35883  1.35970   \n",
      "3011  03.10.2014 00:00:00.000 GMT+0300  1.26691  1.26754  1.25008  1.25158   \n",
      "3043  17.11.2014 00:00:00.000 GMT+0200  1.25325  1.25777  1.24453  1.24501   \n",
      "3089  20.01.2015 00:00:00.000 GMT+0200  1.16072  1.16153  1.15407  1.15506   \n",
      "3331  23.12.2015 00:00:00.000 GMT+0200  1.09573  1.09580  1.08701  1.09117   \n",
      "3415  20.04.2016 00:00:00.000 GMT+0300  1.13580  1.13877  1.12907  1.12974   \n",
      "3442  27.05.2016 00:00:00.000 GMT+0300  1.11943  1.12009  1.11112  1.11164   \n",
      "3512  02.09.2016 00:00:00.000 GMT+0300  1.11971  1.12525  1.11505  1.11565   \n",
      "3542  14.10.2016 00:00:00.000 GMT+0300  1.10574  1.10591  1.09708  1.09722   \n",
      "3575  30.11.2016 00:00:00.000 GMT+0200  1.06497  1.06667  1.05528  1.05892   \n",
      "3685  03.05.2017 00:00:00.000 GMT+0300  1.09306  1.09371  1.08831  1.08862   \n",
      "3761  17.08.2017 00:00:00.000 GMT+0300  1.17679  1.17901  1.16625  1.17234   \n",
      "3764  22.08.2017 00:00:00.000 GMT+0300  1.18162  1.18246  1.17454  1.17622   \n",
      "3913  19.03.2018 23:00:00.000 GMT+0200  1.23359  1.23547  1.22401  1.22417   \n",
      "4005  26.07.2018 00:00:00.000 GMT+0300  1.17288  1.17439  1.16405  1.16434   \n",
      "4041  14.09.2018 00:00:00.000 GMT+0300  1.16905  1.17218  1.16209  1.16246   \n",
      "4111  21.12.2018 00:00:00.000 GMT+0200  1.14468  1.14743  1.13563  1.13718   \n",
      "4149  13.02.2019 00:00:00.000 GMT+0200  1.13260  1.13417  1.12606  1.12611   \n",
      "\n",
      "            volume  signals  trendsApprox  result  \n",
      "114   1.122516e+06        1           2.0       0  \n",
      "174   4.235558e+05        1           2.0       0  \n",
      "258   1.128572e+06        1           2.0       0  \n",
      "426   1.096529e+06        1           0.0       0  \n",
      "709   1.088785e+06        1           2.0       0  \n",
      "806   1.644861e+06        1           2.0       0  \n",
      "1185  7.665391e+05        1           2.0       0  \n",
      "1539  9.200291e+05        1           2.0       0  \n",
      "1616  7.513832e+05        1           2.0       0  \n",
      "1761  8.361810e+04        1           2.0       0  \n",
      "1808  8.321130e+04        1           2.0       0  \n",
      "1819  8.288520e+04        1           2.0       0  \n",
      "1855  8.176070e+04        1           2.0       0  \n",
      "2438  1.664266e+05        1           2.0       0  \n",
      "2604  2.509109e+05        1           2.0       0  \n",
      "2684  1.965056e+05        1           2.0       0  \n",
      "2701  2.521164e+05        1           0.0       0  \n",
      "2922  1.665619e+05        1           2.0       0  \n",
      "3011  1.881343e+05        1           2.0       0  \n",
      "3043  1.946628e+05        1           2.0       0  \n",
      "3089  1.459231e+05        1           2.0       0  \n",
      "3331  1.469297e+05        1           2.0       0  \n",
      "3415  2.432256e+05        1           2.0       0  \n",
      "3442  1.973685e+05        1           0.0       0  \n",
      "3512  1.198630e+06        1           2.0       0  \n",
      "3542  1.066060e+06        1           0.0       0  \n",
      "3575  2.851969e+05        1           2.0       0  \n",
      "3685  1.563730e+05        1           2.0       0  \n",
      "3761  2.535277e+05        1           2.0       0  \n",
      "3764  2.040380e+05        1           2.0       0  \n",
      "3913  2.400168e+05        1           2.0       0  \n",
      "4005  2.622137e+05        1           0.0       0  \n",
      "4041  2.132539e+05        1           2.0       0  \n",
      "4111  4.632093e+05        1           0.0       0  \n",
      "4149  3.907603e+05        1           0.0       0  \n",
      "16\n",
      "35\n"
     ]
    }
   ],
   "source": [
    "## False positive values would be those values whose trends are calculated to be different \n",
    "## But the enguling signal was there\n",
    "## For example there was a bullish Engulfing signal detected\n",
    "## But the trend value was either Bearish or Not clear.\n",
    "bullishEngulfingPatternFalsePositives = df[(df['trendsApprox'] != 2) & (df['signals'] == 2)]\n",
    "bearishEngulfingPatternFalsePositives = df[(df['trendsApprox'] != 1) & (df['signals'] == 1)]\n",
    "\n",
    "print(bullishEngulfingPatternFalsePositives)\n",
    "print(bearishEngulfingPatternFalsePositives)\n",
    "\n",
    "print(len(bullishEngulfingPatternFalsePositives))\n",
    "print(len(bearishEngulfingPatternFalsePositives))"
   ]
  },
  {
   "cell_type": "markdown",
   "id": "f362da19",
   "metadata": {},
   "source": [
    "# Let's See Our False Positives on the Graph."
   ]
  },
  {
   "cell_type": "code",
   "execution_count": 70,
   "id": "e3c58e83",
   "metadata": {},
   "outputs": [
    {
     "data": {
      "application/vnd.plotly.v1+json": {
       "config": {
        "plotlyServerURL": "https://plot.ly"
       },
       "data": [
        {
         "close": [
          1.23657,
          1.24033,
          1.23266,
          1.22231,
          1.23504,
          1.22171,
          1.22626,
          1.22719,
          1.2232,
          1.23843,
          1.22855,
          1.23283,
          1.23335,
          1.21323,
          1.21265,
          1.21292,
          1.21564,
          1.21704,
          1.2314,
          1.23627,
          1.21331,
          1.20179,
          1.21166,
          1.21742,
          1.20853,
          1.20888,
          1.2076,
          1.19454,
          1.19624,
          1.19846,
          1.19916,
          1.20234,
          1.18677,
          1.18407,
          1.19032,
          1.18445,
          1.18674,
          1.19253,
          1.18423,
          1.19628,
          1.198,
          1.19853,
          1.19434,
          1.20992,
          1.2174,
          1.20825,
          1.18812,
          1.18478,
          1.18708,
          1.18992,
          1.18227,
          1.18855,
          1.20271,
          1.19523,
          1.20101,
          1.19652,
          1.19831,
          1.2005,
          1.21075,
          1.2102,
          1.22632,
          1.22148,
          1.21884,
          1.22477,
          1.22115,
          1.22272,
          1.22847,
          1.232,
          1.2265,
          1.20469,
          1.21065,
          1.20068,
          1.20561,
          1.21614,
          1.20115,
          1.20538,
          1.21373,
          1.21162,
          1.21097,
          1.2093
         ],
         "high": [
          1.24285,
          1.2416,
          1.24588,
          1.23296,
          1.23841,
          1.23719,
          1.23168,
          1.23705,
          1.22882,
          1.24335,
          1.24073,
          1.23998,
          1.23693,
          1.23668,
          1.21997,
          1.22093,
          1.21682,
          1.22273,
          1.23228,
          1.23874,
          1.23726,
          1.21273,
          1.2135,
          1.21976,
          1.22186,
          1.21114,
          1.20966,
          1.20854,
          1.19745,
          1.19936,
          1.20455,
          1.20766,
          1.20245,
          1.19121,
          1.19143,
          1.19416,
          1.1885,
          1.19467,
          1.19506,
          1.19849,
          1.20106,
          1.19853,
          1.2002,
          1.21183,
          1.21796,
          1.21783,
          1.21333,
          1.18953,
          1.18896,
          1.19415,
          1.19313,
          1.19022,
          1.20589,
          1.20388,
          1.20419,
          1.20196,
          1.20694,
          1.20246,
          1.21273,
          1.21438,
          1.22898,
          1.22969,
          1.2254,
          1.22667,
          1.23044,
          1.22506,
          1.23007,
          1.23386,
          1.2351,
          1.22752,
          1.21183,
          1.21152,
          1.2088,
          1.21708,
          1.21697,
          1.20783,
          1.21482,
          1.21466,
          1.21316,
          1.21921
         ],
         "low": [
          1.2175,
          1.23369,
          1.22729,
          1.21962,
          1.21627,
          1.2172,
          1.21829,
          1.22309,
          1.21742,
          1.22196,
          1.2255,
          1.22206,
          1.22643,
          1.21146,
          1.20975,
          1.20743,
          1.20578,
          1.21484,
          1.21682,
          1.2255,
          1.20982,
          1.19818,
          1.19812,
          1.20489,
          1.20584,
          1.2062,
          1.20505,
          1.19031,
          1.18691,
          1.18925,
          1.19225,
          1.19996,
          1.18408,
          1.18154,
          1.17774,
          1.17954,
          1.17583,
          1.18316,
          1.18216,
          1.18042,
          1.19195,
          1.198,
          1.19199,
          1.19243,
          1.20944,
          1.20635,
          1.18765,
          1.18117,
          1.17885,
          1.1834,
          1.17718,
          1.17819,
          1.18768,
          1.19287,
          1.19356,
          1.18955,
          1.1952,
          1.19338,
          1.19834,
          1.20828,
          1.20877,
          1.22013,
          1.21775,
          1.21553,
          1.22045,
          1.217,
          1.21405,
          1.22755,
          1.22444,
          1.20347,
          1.20234,
          1.19644,
          1.19526,
          1.20274,
          1.198,
          1.19912,
          1.1973,
          1.20772,
          1.20662,
          1.20637
         ],
         "open": [
          1.22001,
          1.23873,
          1.24036,
          1.23242,
          1.22216,
          1.23497,
          1.21903,
          1.22622,
          1.22725,
          1.22325,
          1.23853,
          1.2277,
          1.23305,
          1.2337,
          1.21338,
          1.21276,
          1.21098,
          1.2156,
          1.21722,
          1.23146,
          1.23618,
          1.21146,
          1.20188,
          1.21166,
          1.21754,
          1.20865,
          1.20927,
          1.20804,
          1.1947,
          1.19617,
          1.1985,
          1.20059,
          1.20245,
          1.18691,
          1.18411,
          1.19055,
          1.18247,
          1.18676,
          1.19263,
          1.18392,
          1.19627,
          1.198,
          1.1984,
          1.19498,
          1.2099,
          1.21783,
          1.2087,
          1.18718,
          1.18547,
          1.18731,
          1.19,
          1.18203,
          1.18902,
          1.20288,
          1.1953,
          1.20122,
          1.19647,
          1.19887,
          1.20048,
          1.2112,
          1.2108,
          1.22624,
          1.22374,
          1.21894,
          1.2248,
          1.22141,
          1.22315,
          1.22937,
          1.23204,
          1.22684,
          1.20488,
          1.2109,
          1.2003,
          1.2058,
          1.21648,
          1.2013,
          1.20563,
          1.21378,
          1.21143,
          1.21122
         ],
         "type": "candlestick",
         "x": [
          220,
          221,
          222,
          223,
          224,
          225,
          226,
          227,
          228,
          229,
          230,
          231,
          232,
          233,
          234,
          235,
          236,
          237,
          238,
          239,
          240,
          241,
          242,
          243,
          244,
          245,
          246,
          247,
          248,
          249,
          250,
          251,
          252,
          253,
          254,
          255,
          256,
          257,
          258,
          259,
          260,
          261,
          262,
          263,
          264,
          265,
          266,
          267,
          268,
          269,
          270,
          271,
          272,
          273,
          274,
          275,
          276,
          277,
          278,
          279,
          280,
          281,
          282,
          283,
          284,
          285,
          286,
          287,
          288,
          289,
          290,
          291,
          292,
          293,
          294,
          295,
          296,
          297,
          298,
          299
         ]
        }
       ],
       "layout": {
        "template": {
         "data": {
          "bar": [
           {
            "error_x": {
             "color": "#2a3f5f"
            },
            "error_y": {
             "color": "#2a3f5f"
            },
            "marker": {
             "line": {
              "color": "#E5ECF6",
              "width": 0.5
             },
             "pattern": {
              "fillmode": "overlay",
              "size": 10,
              "solidity": 0.2
             }
            },
            "type": "bar"
           }
          ],
          "barpolar": [
           {
            "marker": {
             "line": {
              "color": "#E5ECF6",
              "width": 0.5
             },
             "pattern": {
              "fillmode": "overlay",
              "size": 10,
              "solidity": 0.2
             }
            },
            "type": "barpolar"
           }
          ],
          "carpet": [
           {
            "aaxis": {
             "endlinecolor": "#2a3f5f",
             "gridcolor": "white",
             "linecolor": "white",
             "minorgridcolor": "white",
             "startlinecolor": "#2a3f5f"
            },
            "baxis": {
             "endlinecolor": "#2a3f5f",
             "gridcolor": "white",
             "linecolor": "white",
             "minorgridcolor": "white",
             "startlinecolor": "#2a3f5f"
            },
            "type": "carpet"
           }
          ],
          "choropleth": [
           {
            "colorbar": {
             "outlinewidth": 0,
             "ticks": ""
            },
            "type": "choropleth"
           }
          ],
          "contour": [
           {
            "colorbar": {
             "outlinewidth": 0,
             "ticks": ""
            },
            "colorscale": [
             [
              0,
              "#0d0887"
             ],
             [
              0.1111111111111111,
              "#46039f"
             ],
             [
              0.2222222222222222,
              "#7201a8"
             ],
             [
              0.3333333333333333,
              "#9c179e"
             ],
             [
              0.4444444444444444,
              "#bd3786"
             ],
             [
              0.5555555555555556,
              "#d8576b"
             ],
             [
              0.6666666666666666,
              "#ed7953"
             ],
             [
              0.7777777777777778,
              "#fb9f3a"
             ],
             [
              0.8888888888888888,
              "#fdca26"
             ],
             [
              1,
              "#f0f921"
             ]
            ],
            "type": "contour"
           }
          ],
          "contourcarpet": [
           {
            "colorbar": {
             "outlinewidth": 0,
             "ticks": ""
            },
            "type": "contourcarpet"
           }
          ],
          "heatmap": [
           {
            "colorbar": {
             "outlinewidth": 0,
             "ticks": ""
            },
            "colorscale": [
             [
              0,
              "#0d0887"
             ],
             [
              0.1111111111111111,
              "#46039f"
             ],
             [
              0.2222222222222222,
              "#7201a8"
             ],
             [
              0.3333333333333333,
              "#9c179e"
             ],
             [
              0.4444444444444444,
              "#bd3786"
             ],
             [
              0.5555555555555556,
              "#d8576b"
             ],
             [
              0.6666666666666666,
              "#ed7953"
             ],
             [
              0.7777777777777778,
              "#fb9f3a"
             ],
             [
              0.8888888888888888,
              "#fdca26"
             ],
             [
              1,
              "#f0f921"
             ]
            ],
            "type": "heatmap"
           }
          ],
          "heatmapgl": [
           {
            "colorbar": {
             "outlinewidth": 0,
             "ticks": ""
            },
            "colorscale": [
             [
              0,
              "#0d0887"
             ],
             [
              0.1111111111111111,
              "#46039f"
             ],
             [
              0.2222222222222222,
              "#7201a8"
             ],
             [
              0.3333333333333333,
              "#9c179e"
             ],
             [
              0.4444444444444444,
              "#bd3786"
             ],
             [
              0.5555555555555556,
              "#d8576b"
             ],
             [
              0.6666666666666666,
              "#ed7953"
             ],
             [
              0.7777777777777778,
              "#fb9f3a"
             ],
             [
              0.8888888888888888,
              "#fdca26"
             ],
             [
              1,
              "#f0f921"
             ]
            ],
            "type": "heatmapgl"
           }
          ],
          "histogram": [
           {
            "marker": {
             "pattern": {
              "fillmode": "overlay",
              "size": 10,
              "solidity": 0.2
             }
            },
            "type": "histogram"
           }
          ],
          "histogram2d": [
           {
            "colorbar": {
             "outlinewidth": 0,
             "ticks": ""
            },
            "colorscale": [
             [
              0,
              "#0d0887"
             ],
             [
              0.1111111111111111,
              "#46039f"
             ],
             [
              0.2222222222222222,
              "#7201a8"
             ],
             [
              0.3333333333333333,
              "#9c179e"
             ],
             [
              0.4444444444444444,
              "#bd3786"
             ],
             [
              0.5555555555555556,
              "#d8576b"
             ],
             [
              0.6666666666666666,
              "#ed7953"
             ],
             [
              0.7777777777777778,
              "#fb9f3a"
             ],
             [
              0.8888888888888888,
              "#fdca26"
             ],
             [
              1,
              "#f0f921"
             ]
            ],
            "type": "histogram2d"
           }
          ],
          "histogram2dcontour": [
           {
            "colorbar": {
             "outlinewidth": 0,
             "ticks": ""
            },
            "colorscale": [
             [
              0,
              "#0d0887"
             ],
             [
              0.1111111111111111,
              "#46039f"
             ],
             [
              0.2222222222222222,
              "#7201a8"
             ],
             [
              0.3333333333333333,
              "#9c179e"
             ],
             [
              0.4444444444444444,
              "#bd3786"
             ],
             [
              0.5555555555555556,
              "#d8576b"
             ],
             [
              0.6666666666666666,
              "#ed7953"
             ],
             [
              0.7777777777777778,
              "#fb9f3a"
             ],
             [
              0.8888888888888888,
              "#fdca26"
             ],
             [
              1,
              "#f0f921"
             ]
            ],
            "type": "histogram2dcontour"
           }
          ],
          "mesh3d": [
           {
            "colorbar": {
             "outlinewidth": 0,
             "ticks": ""
            },
            "type": "mesh3d"
           }
          ],
          "parcoords": [
           {
            "line": {
             "colorbar": {
              "outlinewidth": 0,
              "ticks": ""
             }
            },
            "type": "parcoords"
           }
          ],
          "pie": [
           {
            "automargin": true,
            "type": "pie"
           }
          ],
          "scatter": [
           {
            "fillpattern": {
             "fillmode": "overlay",
             "size": 10,
             "solidity": 0.2
            },
            "type": "scatter"
           }
          ],
          "scatter3d": [
           {
            "line": {
             "colorbar": {
              "outlinewidth": 0,
              "ticks": ""
             }
            },
            "marker": {
             "colorbar": {
              "outlinewidth": 0,
              "ticks": ""
             }
            },
            "type": "scatter3d"
           }
          ],
          "scattercarpet": [
           {
            "marker": {
             "colorbar": {
              "outlinewidth": 0,
              "ticks": ""
             }
            },
            "type": "scattercarpet"
           }
          ],
          "scattergeo": [
           {
            "marker": {
             "colorbar": {
              "outlinewidth": 0,
              "ticks": ""
             }
            },
            "type": "scattergeo"
           }
          ],
          "scattergl": [
           {
            "marker": {
             "colorbar": {
              "outlinewidth": 0,
              "ticks": ""
             }
            },
            "type": "scattergl"
           }
          ],
          "scattermapbox": [
           {
            "marker": {
             "colorbar": {
              "outlinewidth": 0,
              "ticks": ""
             }
            },
            "type": "scattermapbox"
           }
          ],
          "scatterpolar": [
           {
            "marker": {
             "colorbar": {
              "outlinewidth": 0,
              "ticks": ""
             }
            },
            "type": "scatterpolar"
           }
          ],
          "scatterpolargl": [
           {
            "marker": {
             "colorbar": {
              "outlinewidth": 0,
              "ticks": ""
             }
            },
            "type": "scatterpolargl"
           }
          ],
          "scatterternary": [
           {
            "marker": {
             "colorbar": {
              "outlinewidth": 0,
              "ticks": ""
             }
            },
            "type": "scatterternary"
           }
          ],
          "surface": [
           {
            "colorbar": {
             "outlinewidth": 0,
             "ticks": ""
            },
            "colorscale": [
             [
              0,
              "#0d0887"
             ],
             [
              0.1111111111111111,
              "#46039f"
             ],
             [
              0.2222222222222222,
              "#7201a8"
             ],
             [
              0.3333333333333333,
              "#9c179e"
             ],
             [
              0.4444444444444444,
              "#bd3786"
             ],
             [
              0.5555555555555556,
              "#d8576b"
             ],
             [
              0.6666666666666666,
              "#ed7953"
             ],
             [
              0.7777777777777778,
              "#fb9f3a"
             ],
             [
              0.8888888888888888,
              "#fdca26"
             ],
             [
              1,
              "#f0f921"
             ]
            ],
            "type": "surface"
           }
          ],
          "table": [
           {
            "cells": {
             "fill": {
              "color": "#EBF0F8"
             },
             "line": {
              "color": "white"
             }
            },
            "header": {
             "fill": {
              "color": "#C8D4E3"
             },
             "line": {
              "color": "white"
             }
            },
            "type": "table"
           }
          ]
         },
         "layout": {
          "annotationdefaults": {
           "arrowcolor": "#2a3f5f",
           "arrowhead": 0,
           "arrowwidth": 1
          },
          "autotypenumbers": "strict",
          "coloraxis": {
           "colorbar": {
            "outlinewidth": 0,
            "ticks": ""
           }
          },
          "colorscale": {
           "diverging": [
            [
             0,
             "#8e0152"
            ],
            [
             0.1,
             "#c51b7d"
            ],
            [
             0.2,
             "#de77ae"
            ],
            [
             0.3,
             "#f1b6da"
            ],
            [
             0.4,
             "#fde0ef"
            ],
            [
             0.5,
             "#f7f7f7"
            ],
            [
             0.6,
             "#e6f5d0"
            ],
            [
             0.7,
             "#b8e186"
            ],
            [
             0.8,
             "#7fbc41"
            ],
            [
             0.9,
             "#4d9221"
            ],
            [
             1,
             "#276419"
            ]
           ],
           "sequential": [
            [
             0,
             "#0d0887"
            ],
            [
             0.1111111111111111,
             "#46039f"
            ],
            [
             0.2222222222222222,
             "#7201a8"
            ],
            [
             0.3333333333333333,
             "#9c179e"
            ],
            [
             0.4444444444444444,
             "#bd3786"
            ],
            [
             0.5555555555555556,
             "#d8576b"
            ],
            [
             0.6666666666666666,
             "#ed7953"
            ],
            [
             0.7777777777777778,
             "#fb9f3a"
            ],
            [
             0.8888888888888888,
             "#fdca26"
            ],
            [
             1,
             "#f0f921"
            ]
           ],
           "sequentialminus": [
            [
             0,
             "#0d0887"
            ],
            [
             0.1111111111111111,
             "#46039f"
            ],
            [
             0.2222222222222222,
             "#7201a8"
            ],
            [
             0.3333333333333333,
             "#9c179e"
            ],
            [
             0.4444444444444444,
             "#bd3786"
            ],
            [
             0.5555555555555556,
             "#d8576b"
            ],
            [
             0.6666666666666666,
             "#ed7953"
            ],
            [
             0.7777777777777778,
             "#fb9f3a"
            ],
            [
             0.8888888888888888,
             "#fdca26"
            ],
            [
             1,
             "#f0f921"
            ]
           ]
          },
          "colorway": [
           "#636efa",
           "#EF553B",
           "#00cc96",
           "#ab63fa",
           "#FFA15A",
           "#19d3f3",
           "#FF6692",
           "#B6E880",
           "#FF97FF",
           "#FECB52"
          ],
          "font": {
           "color": "#2a3f5f"
          },
          "geo": {
           "bgcolor": "white",
           "lakecolor": "white",
           "landcolor": "#E5ECF6",
           "showlakes": true,
           "showland": true,
           "subunitcolor": "white"
          },
          "hoverlabel": {
           "align": "left"
          },
          "hovermode": "closest",
          "mapbox": {
           "style": "light"
          },
          "paper_bgcolor": "white",
          "plot_bgcolor": "#E5ECF6",
          "polar": {
           "angularaxis": {
            "gridcolor": "white",
            "linecolor": "white",
            "ticks": ""
           },
           "bgcolor": "#E5ECF6",
           "radialaxis": {
            "gridcolor": "white",
            "linecolor": "white",
            "ticks": ""
           }
          },
          "scene": {
           "xaxis": {
            "backgroundcolor": "#E5ECF6",
            "gridcolor": "white",
            "gridwidth": 2,
            "linecolor": "white",
            "showbackground": true,
            "ticks": "",
            "zerolinecolor": "white"
           },
           "yaxis": {
            "backgroundcolor": "#E5ECF6",
            "gridcolor": "white",
            "gridwidth": 2,
            "linecolor": "white",
            "showbackground": true,
            "ticks": "",
            "zerolinecolor": "white"
           },
           "zaxis": {
            "backgroundcolor": "#E5ECF6",
            "gridcolor": "white",
            "gridwidth": 2,
            "linecolor": "white",
            "showbackground": true,
            "ticks": "",
            "zerolinecolor": "white"
           }
          },
          "shapedefaults": {
           "line": {
            "color": "#2a3f5f"
           }
          },
          "ternary": {
           "aaxis": {
            "gridcolor": "white",
            "linecolor": "white",
            "ticks": ""
           },
           "baxis": {
            "gridcolor": "white",
            "linecolor": "white",
            "ticks": ""
           },
           "bgcolor": "#E5ECF6",
           "caxis": {
            "gridcolor": "white",
            "linecolor": "white",
            "ticks": ""
           }
          },
          "title": {
           "x": 0.05
          },
          "xaxis": {
           "automargin": true,
           "gridcolor": "white",
           "linecolor": "white",
           "ticks": "",
           "title": {
            "standoff": 15
           },
           "zerolinecolor": "white",
           "zerolinewidth": 2
          },
          "yaxis": {
           "automargin": true,
           "gridcolor": "white",
           "linecolor": "white",
           "ticks": "",
           "title": {
            "standoff": 15
           },
           "zerolinecolor": "white",
           "zerolinewidth": 2
          }
         }
        }
       }
      },
      "text/html": [
       "<div>                            <div id=\"e70485de-bbb5-4db3-a668-28b6e4304283\" class=\"plotly-graph-div\" style=\"height:525px; width:100%;\"></div>            <script type=\"text/javascript\">                require([\"plotly\"], function(Plotly) {                    window.PLOTLYENV=window.PLOTLYENV || {};                                    if (document.getElementById(\"e70485de-bbb5-4db3-a668-28b6e4304283\")) {                    Plotly.newPlot(                        \"e70485de-bbb5-4db3-a668-28b6e4304283\",                        [{\"close\":[1.23657,1.24033,1.23266,1.22231,1.23504,1.22171,1.22626,1.22719,1.2232,1.23843,1.22855,1.23283,1.23335,1.21323,1.21265,1.21292,1.21564,1.21704,1.2314,1.23627,1.21331,1.20179,1.21166,1.21742,1.20853,1.20888,1.2076,1.19454,1.19624,1.19846,1.19916,1.20234,1.18677,1.18407,1.19032,1.18445,1.18674,1.19253,1.18423,1.19628,1.198,1.19853,1.19434,1.20992,1.2174,1.20825,1.18812,1.18478,1.18708,1.18992,1.18227,1.18855,1.20271,1.19523,1.20101,1.19652,1.19831,1.2005,1.21075,1.2102,1.22632,1.22148,1.21884,1.22477,1.22115,1.22272,1.22847,1.232,1.2265,1.20469,1.21065,1.20068,1.20561,1.21614,1.20115,1.20538,1.21373,1.21162,1.21097,1.2093],\"high\":[1.24285,1.2416,1.24588,1.23296,1.23841,1.23719,1.23168,1.23705,1.22882,1.24335,1.24073,1.23998,1.23693,1.23668,1.21997,1.22093,1.21682,1.22273,1.23228,1.23874,1.23726,1.21273,1.2135,1.21976,1.22186,1.21114,1.20966,1.20854,1.19745,1.19936,1.20455,1.20766,1.20245,1.19121,1.19143,1.19416,1.1885,1.19467,1.19506,1.19849,1.20106,1.19853,1.2002,1.21183,1.21796,1.21783,1.21333,1.18953,1.18896,1.19415,1.19313,1.19022,1.20589,1.20388,1.20419,1.20196,1.20694,1.20246,1.21273,1.21438,1.22898,1.22969,1.2254,1.22667,1.23044,1.22506,1.23007,1.23386,1.2351,1.22752,1.21183,1.21152,1.2088,1.21708,1.21697,1.20783,1.21482,1.21466,1.21316,1.21921],\"low\":[1.2175,1.23369,1.22729,1.21962,1.21627,1.2172,1.21829,1.22309,1.21742,1.22196,1.2255,1.22206,1.22643,1.21146,1.20975,1.20743,1.20578,1.21484,1.21682,1.2255,1.20982,1.19818,1.19812,1.20489,1.20584,1.2062,1.20505,1.19031,1.18691,1.18925,1.19225,1.19996,1.18408,1.18154,1.17774,1.17954,1.17583,1.18316,1.18216,1.18042,1.19195,1.198,1.19199,1.19243,1.20944,1.20635,1.18765,1.18117,1.17885,1.1834,1.17718,1.17819,1.18768,1.19287,1.19356,1.18955,1.1952,1.19338,1.19834,1.20828,1.20877,1.22013,1.21775,1.21553,1.22045,1.217,1.21405,1.22755,1.22444,1.20347,1.20234,1.19644,1.19526,1.20274,1.198,1.19912,1.1973,1.20772,1.20662,1.20637],\"open\":[1.22001,1.23873,1.24036,1.23242,1.22216,1.23497,1.21903,1.22622,1.22725,1.22325,1.23853,1.2277,1.23305,1.2337,1.21338,1.21276,1.21098,1.2156,1.21722,1.23146,1.23618,1.21146,1.20188,1.21166,1.21754,1.20865,1.20927,1.20804,1.1947,1.19617,1.1985,1.20059,1.20245,1.18691,1.18411,1.19055,1.18247,1.18676,1.19263,1.18392,1.19627,1.198,1.1984,1.19498,1.2099,1.21783,1.2087,1.18718,1.18547,1.18731,1.19,1.18203,1.18902,1.20288,1.1953,1.20122,1.19647,1.19887,1.20048,1.2112,1.2108,1.22624,1.22374,1.21894,1.2248,1.22141,1.22315,1.22937,1.23204,1.22684,1.20488,1.2109,1.2003,1.2058,1.21648,1.2013,1.20563,1.21378,1.21143,1.21122],\"x\":[220,221,222,223,224,225,226,227,228,229,230,231,232,233,234,235,236,237,238,239,240,241,242,243,244,245,246,247,248,249,250,251,252,253,254,255,256,257,258,259,260,261,262,263,264,265,266,267,268,269,270,271,272,273,274,275,276,277,278,279,280,281,282,283,284,285,286,287,288,289,290,291,292,293,294,295,296,297,298,299],\"type\":\"candlestick\"}],                        {\"template\":{\"data\":{\"histogram2dcontour\":[{\"type\":\"histogram2dcontour\",\"colorbar\":{\"outlinewidth\":0,\"ticks\":\"\"},\"colorscale\":[[0.0,\"#0d0887\"],[0.1111111111111111,\"#46039f\"],[0.2222222222222222,\"#7201a8\"],[0.3333333333333333,\"#9c179e\"],[0.4444444444444444,\"#bd3786\"],[0.5555555555555556,\"#d8576b\"],[0.6666666666666666,\"#ed7953\"],[0.7777777777777778,\"#fb9f3a\"],[0.8888888888888888,\"#fdca26\"],[1.0,\"#f0f921\"]]}],\"choropleth\":[{\"type\":\"choropleth\",\"colorbar\":{\"outlinewidth\":0,\"ticks\":\"\"}}],\"histogram2d\":[{\"type\":\"histogram2d\",\"colorbar\":{\"outlinewidth\":0,\"ticks\":\"\"},\"colorscale\":[[0.0,\"#0d0887\"],[0.1111111111111111,\"#46039f\"],[0.2222222222222222,\"#7201a8\"],[0.3333333333333333,\"#9c179e\"],[0.4444444444444444,\"#bd3786\"],[0.5555555555555556,\"#d8576b\"],[0.6666666666666666,\"#ed7953\"],[0.7777777777777778,\"#fb9f3a\"],[0.8888888888888888,\"#fdca26\"],[1.0,\"#f0f921\"]]}],\"heatmap\":[{\"type\":\"heatmap\",\"colorbar\":{\"outlinewidth\":0,\"ticks\":\"\"},\"colorscale\":[[0.0,\"#0d0887\"],[0.1111111111111111,\"#46039f\"],[0.2222222222222222,\"#7201a8\"],[0.3333333333333333,\"#9c179e\"],[0.4444444444444444,\"#bd3786\"],[0.5555555555555556,\"#d8576b\"],[0.6666666666666666,\"#ed7953\"],[0.7777777777777778,\"#fb9f3a\"],[0.8888888888888888,\"#fdca26\"],[1.0,\"#f0f921\"]]}],\"heatmapgl\":[{\"type\":\"heatmapgl\",\"colorbar\":{\"outlinewidth\":0,\"ticks\":\"\"},\"colorscale\":[[0.0,\"#0d0887\"],[0.1111111111111111,\"#46039f\"],[0.2222222222222222,\"#7201a8\"],[0.3333333333333333,\"#9c179e\"],[0.4444444444444444,\"#bd3786\"],[0.5555555555555556,\"#d8576b\"],[0.6666666666666666,\"#ed7953\"],[0.7777777777777778,\"#fb9f3a\"],[0.8888888888888888,\"#fdca26\"],[1.0,\"#f0f921\"]]}],\"contourcarpet\":[{\"type\":\"contourcarpet\",\"colorbar\":{\"outlinewidth\":0,\"ticks\":\"\"}}],\"contour\":[{\"type\":\"contour\",\"colorbar\":{\"outlinewidth\":0,\"ticks\":\"\"},\"colorscale\":[[0.0,\"#0d0887\"],[0.1111111111111111,\"#46039f\"],[0.2222222222222222,\"#7201a8\"],[0.3333333333333333,\"#9c179e\"],[0.4444444444444444,\"#bd3786\"],[0.5555555555555556,\"#d8576b\"],[0.6666666666666666,\"#ed7953\"],[0.7777777777777778,\"#fb9f3a\"],[0.8888888888888888,\"#fdca26\"],[1.0,\"#f0f921\"]]}],\"surface\":[{\"type\":\"surface\",\"colorbar\":{\"outlinewidth\":0,\"ticks\":\"\"},\"colorscale\":[[0.0,\"#0d0887\"],[0.1111111111111111,\"#46039f\"],[0.2222222222222222,\"#7201a8\"],[0.3333333333333333,\"#9c179e\"],[0.4444444444444444,\"#bd3786\"],[0.5555555555555556,\"#d8576b\"],[0.6666666666666666,\"#ed7953\"],[0.7777777777777778,\"#fb9f3a\"],[0.8888888888888888,\"#fdca26\"],[1.0,\"#f0f921\"]]}],\"mesh3d\":[{\"type\":\"mesh3d\",\"colorbar\":{\"outlinewidth\":0,\"ticks\":\"\"}}],\"scatter\":[{\"fillpattern\":{\"fillmode\":\"overlay\",\"size\":10,\"solidity\":0.2},\"type\":\"scatter\"}],\"parcoords\":[{\"type\":\"parcoords\",\"line\":{\"colorbar\":{\"outlinewidth\":0,\"ticks\":\"\"}}}],\"scatterpolargl\":[{\"type\":\"scatterpolargl\",\"marker\":{\"colorbar\":{\"outlinewidth\":0,\"ticks\":\"\"}}}],\"bar\":[{\"error_x\":{\"color\":\"#2a3f5f\"},\"error_y\":{\"color\":\"#2a3f5f\"},\"marker\":{\"line\":{\"color\":\"#E5ECF6\",\"width\":0.5},\"pattern\":{\"fillmode\":\"overlay\",\"size\":10,\"solidity\":0.2}},\"type\":\"bar\"}],\"scattergeo\":[{\"type\":\"scattergeo\",\"marker\":{\"colorbar\":{\"outlinewidth\":0,\"ticks\":\"\"}}}],\"scatterpolar\":[{\"type\":\"scatterpolar\",\"marker\":{\"colorbar\":{\"outlinewidth\":0,\"ticks\":\"\"}}}],\"histogram\":[{\"marker\":{\"pattern\":{\"fillmode\":\"overlay\",\"size\":10,\"solidity\":0.2}},\"type\":\"histogram\"}],\"scattergl\":[{\"type\":\"scattergl\",\"marker\":{\"colorbar\":{\"outlinewidth\":0,\"ticks\":\"\"}}}],\"scatter3d\":[{\"type\":\"scatter3d\",\"line\":{\"colorbar\":{\"outlinewidth\":0,\"ticks\":\"\"}},\"marker\":{\"colorbar\":{\"outlinewidth\":0,\"ticks\":\"\"}}}],\"scattermapbox\":[{\"type\":\"scattermapbox\",\"marker\":{\"colorbar\":{\"outlinewidth\":0,\"ticks\":\"\"}}}],\"scatterternary\":[{\"type\":\"scatterternary\",\"marker\":{\"colorbar\":{\"outlinewidth\":0,\"ticks\":\"\"}}}],\"scattercarpet\":[{\"type\":\"scattercarpet\",\"marker\":{\"colorbar\":{\"outlinewidth\":0,\"ticks\":\"\"}}}],\"carpet\":[{\"aaxis\":{\"endlinecolor\":\"#2a3f5f\",\"gridcolor\":\"white\",\"linecolor\":\"white\",\"minorgridcolor\":\"white\",\"startlinecolor\":\"#2a3f5f\"},\"baxis\":{\"endlinecolor\":\"#2a3f5f\",\"gridcolor\":\"white\",\"linecolor\":\"white\",\"minorgridcolor\":\"white\",\"startlinecolor\":\"#2a3f5f\"},\"type\":\"carpet\"}],\"table\":[{\"cells\":{\"fill\":{\"color\":\"#EBF0F8\"},\"line\":{\"color\":\"white\"}},\"header\":{\"fill\":{\"color\":\"#C8D4E3\"},\"line\":{\"color\":\"white\"}},\"type\":\"table\"}],\"barpolar\":[{\"marker\":{\"line\":{\"color\":\"#E5ECF6\",\"width\":0.5},\"pattern\":{\"fillmode\":\"overlay\",\"size\":10,\"solidity\":0.2}},\"type\":\"barpolar\"}],\"pie\":[{\"automargin\":true,\"type\":\"pie\"}]},\"layout\":{\"autotypenumbers\":\"strict\",\"colorway\":[\"#636efa\",\"#EF553B\",\"#00cc96\",\"#ab63fa\",\"#FFA15A\",\"#19d3f3\",\"#FF6692\",\"#B6E880\",\"#FF97FF\",\"#FECB52\"],\"font\":{\"color\":\"#2a3f5f\"},\"hovermode\":\"closest\",\"hoverlabel\":{\"align\":\"left\"},\"paper_bgcolor\":\"white\",\"plot_bgcolor\":\"#E5ECF6\",\"polar\":{\"bgcolor\":\"#E5ECF6\",\"angularaxis\":{\"gridcolor\":\"white\",\"linecolor\":\"white\",\"ticks\":\"\"},\"radialaxis\":{\"gridcolor\":\"white\",\"linecolor\":\"white\",\"ticks\":\"\"}},\"ternary\":{\"bgcolor\":\"#E5ECF6\",\"aaxis\":{\"gridcolor\":\"white\",\"linecolor\":\"white\",\"ticks\":\"\"},\"baxis\":{\"gridcolor\":\"white\",\"linecolor\":\"white\",\"ticks\":\"\"},\"caxis\":{\"gridcolor\":\"white\",\"linecolor\":\"white\",\"ticks\":\"\"}},\"coloraxis\":{\"colorbar\":{\"outlinewidth\":0,\"ticks\":\"\"}},\"colorscale\":{\"sequential\":[[0.0,\"#0d0887\"],[0.1111111111111111,\"#46039f\"],[0.2222222222222222,\"#7201a8\"],[0.3333333333333333,\"#9c179e\"],[0.4444444444444444,\"#bd3786\"],[0.5555555555555556,\"#d8576b\"],[0.6666666666666666,\"#ed7953\"],[0.7777777777777778,\"#fb9f3a\"],[0.8888888888888888,\"#fdca26\"],[1.0,\"#f0f921\"]],\"sequentialminus\":[[0.0,\"#0d0887\"],[0.1111111111111111,\"#46039f\"],[0.2222222222222222,\"#7201a8\"],[0.3333333333333333,\"#9c179e\"],[0.4444444444444444,\"#bd3786\"],[0.5555555555555556,\"#d8576b\"],[0.6666666666666666,\"#ed7953\"],[0.7777777777777778,\"#fb9f3a\"],[0.8888888888888888,\"#fdca26\"],[1.0,\"#f0f921\"]],\"diverging\":[[0,\"#8e0152\"],[0.1,\"#c51b7d\"],[0.2,\"#de77ae\"],[0.3,\"#f1b6da\"],[0.4,\"#fde0ef\"],[0.5,\"#f7f7f7\"],[0.6,\"#e6f5d0\"],[0.7,\"#b8e186\"],[0.8,\"#7fbc41\"],[0.9,\"#4d9221\"],[1,\"#276419\"]]},\"xaxis\":{\"gridcolor\":\"white\",\"linecolor\":\"white\",\"ticks\":\"\",\"title\":{\"standoff\":15},\"zerolinecolor\":\"white\",\"automargin\":true,\"zerolinewidth\":2},\"yaxis\":{\"gridcolor\":\"white\",\"linecolor\":\"white\",\"ticks\":\"\",\"title\":{\"standoff\":15},\"zerolinecolor\":\"white\",\"automargin\":true,\"zerolinewidth\":2},\"scene\":{\"xaxis\":{\"backgroundcolor\":\"#E5ECF6\",\"gridcolor\":\"white\",\"linecolor\":\"white\",\"showbackground\":true,\"ticks\":\"\",\"zerolinecolor\":\"white\",\"gridwidth\":2},\"yaxis\":{\"backgroundcolor\":\"#E5ECF6\",\"gridcolor\":\"white\",\"linecolor\":\"white\",\"showbackground\":true,\"ticks\":\"\",\"zerolinecolor\":\"white\",\"gridwidth\":2},\"zaxis\":{\"backgroundcolor\":\"#E5ECF6\",\"gridcolor\":\"white\",\"linecolor\":\"white\",\"showbackground\":true,\"ticks\":\"\",\"zerolinecolor\":\"white\",\"gridwidth\":2}},\"shapedefaults\":{\"line\":{\"color\":\"#2a3f5f\"}},\"annotationdefaults\":{\"arrowcolor\":\"#2a3f5f\",\"arrowhead\":0,\"arrowwidth\":1},\"geo\":{\"bgcolor\":\"white\",\"landcolor\":\"#E5ECF6\",\"subunitcolor\":\"white\",\"showland\":true,\"showlakes\":true,\"lakecolor\":\"white\"},\"title\":{\"x\":0.05},\"mapbox\":{\"style\":\"light\"}}}},                        {\"responsive\": true}                    ).then(function(){\n",
       "                            \n",
       "var gd = document.getElementById('e70485de-bbb5-4db3-a668-28b6e4304283');\n",
       "var x = new MutationObserver(function (mutations, observer) {{\n",
       "        var display = window.getComputedStyle(gd).display;\n",
       "        if (!display || display === 'none') {{\n",
       "            console.log([gd, 'removed!']);\n",
       "            Plotly.purge(gd);\n",
       "            observer.disconnect();\n",
       "        }}\n",
       "}});\n",
       "\n",
       "// Listen for the removal of the full notebook cells\n",
       "var notebookContainer = gd.closest('#notebook-container');\n",
       "if (notebookContainer) {{\n",
       "    x.observe(notebookContainer, {childList: true});\n",
       "}}\n",
       "\n",
       "// Listen for the clearing of the current output cell\n",
       "var outputEl = gd.closest('.output');\n",
       "if (outputEl) {{\n",
       "    x.observe(outputEl, {childList: true});\n",
       "}}\n",
       "\n",
       "                        })                };                });            </script>        </div>"
      ]
     },
     "metadata": {},
     "output_type": "display_data"
    }
   ],
   "source": [
    "# Let's Plot & See out false positives in the graph itself.\n",
    "\n",
    "import plotly.graph_objects as go\n",
    "from datetime import datetime\n",
    "\n",
    "dataFramePlot = df[220:300]\n",
    "figure = go.Figure(data=[go.Candlestick(x=dataFramePlot.index,\n",
    "                open=dataFramePlot['open'],\n",
    "                high=dataFramePlot['high'],\n",
    "                low=dataFramePlot['low'],\n",
    "                close=dataFramePlot['close'])])\n",
    "\n",
    "figure.show()"
   ]
  },
  {
   "cell_type": "code",
   "execution_count": null,
   "id": "1aec15ac",
   "metadata": {},
   "outputs": [],
   "source": []
  }
 ],
 "metadata": {
  "kernelspec": {
   "display_name": "Python 3 (ipykernel)",
   "language": "python",
   "name": "python3"
  },
  "language_info": {
   "codemirror_mode": {
    "name": "ipython",
    "version": 3
   },
   "file_extension": ".py",
   "mimetype": "text/x-python",
   "name": "python",
   "nbconvert_exporter": "python",
   "pygments_lexer": "ipython3",
   "version": "3.9.13"
  }
 },
 "nbformat": 4,
 "nbformat_minor": 5
}
