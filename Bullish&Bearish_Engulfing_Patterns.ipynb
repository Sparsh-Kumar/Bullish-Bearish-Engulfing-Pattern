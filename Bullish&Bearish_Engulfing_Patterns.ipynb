{
 "cells": [
  {
   "cell_type": "markdown",
   "id": "f12d7bb9",
   "metadata": {},
   "source": [
    "## Bullish Engulfing Pattern & it's Statistical Analysis\n",
    "\n",
    "**Bullish engulfing pattern** is that kind of pattern which is followed by **multiple downtrend candles** & then suddenly an **uptrend candle** which opens at or below the **closing price** of previous **downtrend candle** and closes higher than the **opening price** of previous downtrend candle.\n",
    "\n",
    "The significance of **Bullish Engulfing Pattern** is that it denotes a change from downward trend to upward trend from it's point onwards.\n",
    "\n",
    "The **Bullish Engulfing Pattern** looks like this.\n",
    "![Bullish-Engulfing-Pattern](https://a.c-dn.net/c/content/dam/publicsites/igcom/uk/images/ContentImage/What_is_a_bullish_engulfing_pattern@2x.png)\n"
   ]
  },
  {
   "cell_type": "code",
   "execution_count": null,
   "id": "fa1e9939",
   "metadata": {},
   "outputs": [],
   "source": []
  }
 ],
 "metadata": {
  "kernelspec": {
   "display_name": "Python 3 (ipykernel)",
   "language": "python",
   "name": "python3"
  },
  "language_info": {
   "codemirror_mode": {
    "name": "ipython",
    "version": 3
   },
   "file_extension": ".py",
   "mimetype": "text/x-python",
   "name": "python",
   "nbconvert_exporter": "python",
   "pygments_lexer": "ipython3",
   "version": "3.9.13"
  }
 },
 "nbformat": 4,
 "nbformat_minor": 5
}
